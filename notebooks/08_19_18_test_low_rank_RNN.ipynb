{
 "cells": [
  {
   "cell_type": "code",
   "execution_count": 1,
   "metadata": {},
   "outputs": [],
   "source": [
    "%matplotlib inline\n",
    "%load_ext autoreload\n",
    "%autoreload 2\n",
    "\n",
    "import matplotlib.pyplot as plt\n",
    "import numpy as np\n",
    "import tensorflow as tf\n",
    "from tf_util.systems import system_from_str\n",
    "from train_dsn import train_dsn\n",
    "import seaborn as sns\n",
    "import pandas as pd\n",
    "\n",
    "from util import fct_integrals as integrals\n",
    "from util import tf_integrals as tf_integrals\n",
    "\n",
    "from util import fct_mf as mf\n",
    "\n"
   ]
  },
  {
   "cell_type": "code",
   "execution_count": 2,
   "metadata": {},
   "outputs": [],
   "source": [
    "### Set parameters\n",
    "\n",
    "Mm = 3.5      # Mean of m\n",
    "Mn = 1.       # Mean of n\n",
    "Mi = 0.       # Mean of I\n",
    "\n",
    "Sim = 1.      # Std of m\n",
    "Sin = 1.      # Std of n\n",
    "Sip = 1.      # Std of input orthogonal to m and n, along h (see Methods)\n",
    "\n",
    "g = 0.8\n",
    "tol = 1e-10;\n",
    "\n",
    "Sini_min = 1e-4\n",
    "Sini_max = 2.\n",
    "num_vals = 40;\n",
    "Sini_values = np.linspace(Sini_min, Sini_max, num_vals)"
   ]
  },
  {
   "cell_type": "code",
   "execution_count": 3,
   "metadata": {},
   "outputs": [
    {
     "data": {
      "image/png": "[encoded data removed]",
      "text/plain": [
       "<Figure size 432x288 with 1 Axes>"
      ]
     },
     "metadata": {},
     "output_type": "display_data"
    },
    {
     "name": "stdout",
     "output_type": "stream",
     "text": [
      "[[10. 10. 10. 10. 10. 10.  9.  9.  9.  9.  9.  9.  9.  9.  9.  8.  8.  8.\n",
      "   8.  8.  8.  8.  8.  7.  7.  7.  7.  7.  7.  7.  7.  7.  7.  7.  7.  7.\n",
      "   7.  7.  7.  7.]\n",
      " [10. 10. 10. 10. 11. 11. 11. 11. 11. 12. 12. 12. 13. 15.  9. 21. 18. 16.\n",
      "  15. 15. 14. 14. 13. 13. 13. 12. 12. 12. 12. 12. 12. 11. 11. 11. 11. 11.\n",
      "  11. 11. 11. 11.]]\n"
     ]
    }
   ],
   "source": [
    "ics_0 = np.array([5., 5., 5.], np.float64);\n",
    "ics_1 = np.array([-5., 5., -5.], np.float64);\n",
    "eps = 0.2;\n",
    "eps_approx = 0.8;\n",
    "tol_approx = .01;\n",
    "\n",
    "Ks_valid = np.zeros((2,num_vals));\n",
    "Ks_approx = np.zeros((2,num_vals));\n",
    "count_approx = np.zeros((2,num_vals));\n",
    "for i in range(num_vals):\n",
    "    Sini = Sini_values[i];\n",
    "    ParVec = [Mm, Mn, Mi, Sim, Sin, Sini, Sip];\n",
    "    \n",
    "    ys, count = mf.SolveStatic(ics_0, g, ParVec, eps, tol);\n",
    "    Ks_valid[0,i] = ys[-1,2];\n",
    "    \n",
    "    ys, count = mf.SolveStatic(ics_0, g, ParVec, eps_approx, tol_approx);\n",
    "    Ks_approx[0,i] = ys[-1,2];\n",
    "    count_approx[0,i] = count;\n",
    "    \n",
    "    ys, count = mf.SolveStatic(ics_1, g, ParVec, eps, tol);\n",
    "    Ks_valid[1,i] = ys[-1,2];\n",
    "    \n",
    "    ys, count = mf.SolveStatic(ics_1, g, ParVec, eps_approx, tol_approx);\n",
    "    Ks_approx[1,i] = ys[-1,2];\n",
    "    count_approx[1,i] = count;\n",
    "    \n",
    "    \n",
    "    \n",
    "plt.figure();\n",
    "plt.plot(Ks_valid.T, 'r');\n",
    "plt.plot(Ks_approx.T, 'g');\n",
    "plt.show();\n",
    "\n",
    "print(count_approx);\n",
    "\n"
   ]
  },
  {
   "cell_type": "code",
   "execution_count": 4,
   "metadata": {
    "scrolled": true
   },
   "outputs": [],
   "source": [
    "K = 1;\n",
    "M = 10;\n",
    "D = 20;\n",
    "m_tf = tf.get_variable('m', shape=(K,M,D,), dtype=tf.float64);\n",
    "n_tf = tf.get_variable('n', shape=(K,M,D,), dtype=tf.float64);"
   ]
  },
  {
   "cell_type": "code",
   "execution_count": 5,
   "metadata": {
    "collapsed": true
   },
   "outputs": [],
   "source": [
    "Mm = tf.reduce_mean(m_tf,2);\n",
    "Mn = tf.reduce_mean(n_tf,2);\n",
    "Mi = 0.0;\n",
    "\n",
    "Sim = tf.reduce_mean(tf.square(m_tf - tf.expand_dims(Mm, 2)), 2);\n",
    "Sin = tf.reduce_mean(tf.square(n_tf - tf.expand_dims(Mn, 2)), 2);\n",
    "Sip = 1.0;\n"
   ]
  },
  {
   "cell_type": "code",
   "execution_count": 17,
   "metadata": {},
   "outputs": [],
   "source": [
    "Ics_0 = np.tile(np.expand_dims(np.expand_dims(ics_0, 0), 1), [K,M,1]);\n",
    "Ics_1 = np.tile(np.expand_dims(np.expand_dims(ics_1, 0), 1), [K,M,1]);\n",
    "\n",
    "T = 10;\n",
    "def consistent_solve(y, g, ParVec, eps, T):\n",
    "    Mm, Mn, Mi, Sim, Sin, Sini, Sip = ParVec\n",
    "    y_1 = y[:,:,0];\n",
    "    y_2 = y[:,:,1];\n",
    "    y_3 = y[:,:,2];\n",
    "\n",
    "    for i in range(T):\n",
    "        Sii = tf.sqrt((Sini/Sin)**2 + Sip**2);\n",
    "\n",
    "        mu = Mm * y_3 + Mi\n",
    "        new1 = g*g * tf_integrals.PhiSq(mu, y_2) + Sim**2 * y_3**2 + Sii**2\n",
    "        new2 =  Mn * tf_integrals.Phi(mu, y_2) + Sini * tf_integrals.Prime(mu, y_2)\n",
    "\n",
    "        y_new_1 = Mm * new2 + Mi\n",
    "        y_new_2 = (1-eps)*y_2 + eps*new1\n",
    "        y_new_3 = (1-eps)*y_3 + eps*new2\n",
    "\n",
    "        y_1 = y_new_1;\n",
    "        y_2 = y_new_2;\n",
    "        y_3 = y_new_3;\n",
    "\n",
    "    y_out = tf.stack([y_1, y_2, y_3], axis=0);\n",
    "    return y_out;\n",
    "\n",
    "Sini = 1e-4;\n",
    "ParVec = Mm, Mn, Mi, Sim, Sin, Sini, Sip;\n",
    "sol = consistent_solve(Ics_0, g, ParVec, eps, T);\n"
   ]
  },
  {
   "cell_type": "code",
   "execution_count": 18,
   "metadata": {},
   "outputs": [],
   "source": [
    "_m = np.random.normal(0,1,(K,M,D));\n",
    "_n = np.random.normal(0,1,(K,M,D));\n",
    "feed_dict = {m_tf:_m, n_tf:_n};\n",
    "\n",
    "dsoldphi = tf.gradients(sol, [m_tf,n_tf]);\n",
    "sess = tf.Session();\n",
    "_dsoldphi = sess.run(dsoldphi, {m_tf:_m, n_tf:_n});\n"
   ]
  },
  {
   "cell_type": "code",
   "execution_count": 19,
   "metadata": {},
   "outputs": [
    {
     "name": "stdout",
     "output_type": "stream",
     "text": [
      "(3, 1, 10)\n",
      "[[[-1.04632341e-03 -7.02136742e-03  3.07783359e-03 -3.02092415e-03\n",
      "    1.31154563e-05  7.11842469e-06 -2.30319346e-03  2.73664945e-04\n",
      "    9.35898965e-04  8.31636793e-06]]\n",
      "\n",
      " [[ 5.53775348e+00  4.92124906e+00  8.65541150e+00  8.26597678e+00\n",
      "    4.24677516e+00  8.66162090e+00  7.17595249e+00  3.26649468e+00\n",
      "    3.15206620e+00  4.98485048e+00]]\n",
      "\n",
      " [[ 5.28977409e-01  5.01013886e-01  5.19501149e-01  5.20228945e-01\n",
      "    5.35436571e-01  5.36976736e-01  5.25102732e-01  5.29718377e-01\n",
      "    5.25222736e-01  5.35705219e-01]]]\n"
     ]
    }
   ],
   "source": []
  },
  {
   "cell_type": "code",
   "execution_count": null,
   "metadata": {
    "collapsed": true
   },
   "outputs": [],
   "source": []
  }
 ],
 "metadata": {
  "kernelspec": {
   "display_name": "Python 3",
   "language": "python",
   "name": "python3"
  },
  "language_info": {
   "codemirror_mode": {
    "name": "ipython",
    "version": 3
   },
   "file_extension": ".py",
   "mimetype": "text/x-python",
   "name": "python",
   "nbconvert_exporter": "python",
   "pygments_lexer": "ipython3",
   "version": "3.6.1"
  }
 },
 "nbformat": 4,
 "nbformat_minor": 2
}
