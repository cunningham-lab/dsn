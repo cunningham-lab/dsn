{
 "cells": [
  {
   "cell_type": "code",
   "execution_count": 1,
   "metadata": {},
   "outputs": [
    {
     "name": "stderr",
     "output_type": "stream",
     "text": [
      "/Users/sbittner/Library/Python/3.6/lib/python/site-packages/statsmodels/compat/pandas.py:56: FutureWarning: The pandas.core.datetools module is deprecated and will be removed in a future version. Please use the pandas.tseries module instead.\n",
      "  from pandas.core import datetools\n"
     ]
    }
   ],
   "source": [
    "%matplotlib inline\n",
    "%load_ext autoreload\n",
    "%autoreload 2\n",
    "\n",
    "import matplotlib.pyplot as plt\n",
    "import numpy as np\n",
    "import tensorflow as tf\n",
    "from tf_util.systems import system_from_str\n",
    "from train_dsn import train_dsn"
   ]
  },
  {
   "cell_type": "code",
   "execution_count": 2,
   "metadata": {},
   "outputs": [
    {
     "name": "stdout",
     "output_type": "stream",
     "text": [
      "linear_1D\n"
     ]
    }
   ],
   "source": [
    "D = 1;\n",
    "system_str = 'linear_%dD' % D;\n",
    "\n",
    "behavior_str = 'steady_state';\n",
    "T = 50;\n",
    "dt = .1;\n",
    "init_conds = np.array([1.0]);\n",
    "\n",
    "system_class = system_from_str(system_str);\n",
    "system = system_class(behavior_str, T, dt, init_conds);\n",
    "print(system.name)"
   ]
  },
  {
   "cell_type": "code",
   "execution_count": 3,
   "metadata": {},
   "outputs": [],
   "source": [
    "K = 1;\n",
    "M = 20;\n",
    "phi = tf.placeholder(dtype=tf.float32, shape=(K, M, D, 1));\n",
    "\n",
    "X = system.simulate(phi);\n",
    "T_a = system.analytic_suff_stats(phi);\n",
    "T_s = system.simulation_suff_stats(phi);\n",
    "\n",
    "_phi = np.expand_dims(np.expand_dims(np.expand_dims(np.linspace(-2, -.1, M), 0), 2), 3);"
   ]
  },
  {
   "cell_type": "code",
   "execution_count": 4,
   "metadata": {},
   "outputs": [
    {
     "data": {
      "image/png": "[encoded data removed]",
      "text/plain": [
       "<matplotlib.figure.Figure at 0x1230f6048>"
      ]
     },
     "metadata": {},
     "output_type": "display_data"
    }
   ],
   "source": [
    "with tf.Session() as sess:\n",
    "    _T_a, _T_s = sess.run([T_a, T_s], {phi:_phi});\n",
    "    \n",
    "plt.figure();\n",
    "plt.plot(_T_a[0,:,0]);\n",
    "plt.plot(_T_s[0,:,0]);\n",
    "plt.show();"
   ]
  },
  {
   "cell_type": "code",
   "execution_count": null,
   "metadata": {},
   "outputs": [
    {
     "name": "stdout",
     "output_type": "stream",
     "text": [
      "results//tb/linear_1D_D=1_T=0_flow=2P_rs=0/\n",
      "0 <tf_util.flows.PlanarFlowLayer object at 0x12dbf8f60>\n",
      "1 <tf_util.flows.PlanarFlowLayer object at 0x12dbf8f98>\n",
      "yep\n",
      "Tensor(\"Const_4:0\", shape=(1, 1), dtype=float64)\n",
      "nope\n",
      "<tensorflow.python.ops.init_ops.VarianceScaling object at 0x12dbf03c8>\n",
      "yep\n",
      "Tensor(\"Const_5:0\", shape=(1, 1), dtype=float64)\n",
      "yep\n",
      "Tensor(\"Const_6:0\", shape=(1, 1), dtype=float64)\n",
      "nope\n",
      "<tensorflow.python.ops.init_ops.VarianceScaling object at 0x12ee29e48>\n",
      "yep\n",
      "Tensor(\"Const_7:0\", shape=(1, 1), dtype=float64)\n",
      "zshapes in\n",
      "connect flow\n",
      "(?, ?, 1, ?)\n",
      "0 PlanarFlow_Layer1\n",
      "(?, ?, ?, ?)\n",
      "1 PlanarFlow_Layer2\n",
      "(?, ?, ?, ?)\n",
      "train network\n",
      "D=1, T=5, n=300, lr=10^-3.0\n",
      "AL iteration 1\n",
      "resetting optimizer\n",
      "saving model at iter 0\n",
      "Doubling memory allocation for parameter logging.\n",
      "Doubling memory allocation for parameter logging.\n",
      "Doubling memory allocation for parameter logging.\n",
      "******************************************\n",
      "it = 1000 \n",
      "H 0.8903763392707945\n",
      "R2 0.15835440733270423\n",
      "cost 515696.1099896635\n"
     ]
    },
    {
     "data": {
      "image/png": "[encoded data removed]",
      "text/plain": [
       "<matplotlib.figure.Figure at 0x12f44fb70>"
      ]
     },
     "metadata": {},
     "output_type": "display_data"
    },
    {
     "name": "stdout",
     "output_type": "stream",
     "text": [
      "saving to results//tb/linear_1D_D=1_T=0_flow=2P_rs=0/  ...\n",
      "******************************************\n",
      "Doubling memory allocation for parameter logging.\n",
      "******************************************\n",
      "it = 2000 \n",
      "H 0.7911448526207794\n",
      "R2 0.26734792186752954\n",
      "cost 8208824410078.208\n"
     ]
    },
    {
     "data": {
      "image/png": "[encoded data removed]",
      "text/plain": [
       "<matplotlib.figure.Figure at 0x12802fe48>"
      ]
     },
     "metadata": {},
     "output_type": "display_data"
    },
    {
     "name": "stdout",
     "output_type": "stream",
     "text": [
      "saving to results//tb/linear_1D_D=1_T=0_flow=2P_rs=0/  ...\n",
      "******************************************\n",
      "******************************************\n",
      "it = 3000 \n",
      "H 0.8671554198351066\n",
      "R2 0.21669900901328487\n",
      "cost 8501107181.819475\n"
     ]
    },
    {
     "data": {
      "image/png": "[encoded data removed]",
      "text/plain": [
       "<matplotlib.figure.Figure at 0x128a3d898>"
      ]
     },
     "metadata": {},
     "output_type": "display_data"
    },
    {
     "name": "stdout",
     "output_type": "stream",
     "text": [
      "saving to results//tb/linear_1D_D=1_T=0_flow=2P_rs=0/  ...\n",
      "******************************************\n",
      "saving to results//tb/linear_1D_D=1_T=0_flow=2P_rs=0/\n"
     ]
    }
   ],
   "source": [
    "system_str = 'linear_1D'\n",
    "dt = .1;\n",
    "T = 5;\n",
    "\n",
    "behavior_str = 'steady_state';\n",
    "random_seed = 0;\n",
    "\n",
    "TIF_flow_type = 'AffineFlowLayer';\n",
    "nlayers = 1;\n",
    "flow_dict = {'latent_dynamics':None, \\\n",
    "             'TIF_flow_type':TIF_flow_type, \\\n",
    "             'repeats':nlayers};\n",
    "\n",
    "n = 300;\n",
    "lr_order = -3;\n",
    "flow_dict;\n",
    "\n",
    "init_conds = np.array([1.0]);\n",
    "system_class = system_from_str(system_str);\n",
    "system = system_class(behavior_str, dt, T, init_conds);\n",
    "\n",
    "np.random.seed(0);\n",
    "\n",
    "mu = np.array([0.5]);\n",
    "Sigma = np.array([[.1]]);\n",
    "\n",
    "behavior = {'mu':mu, 'Sigma':Sigma};\n",
    "\n",
    "X, costs, R2s = train_dsn(system, behavior, T, n, flow_dict, \\\n",
    "                          lr_order=lr_order, \\\n",
    "                          random_seed=random_seed);\n",
    "\n"
   ]
  },
  {
   "cell_type": "code",
   "execution_count": null,
   "metadata": {
    "collapsed": true
   },
   "outputs": [],
   "source": []
  }
 ],
 "metadata": {
  "kernelspec": {
   "display_name": "Python 3",
   "language": "python",
   "name": "python3"
  },
  "language_info": {
   "codemirror_mode": {
    "name": "ipython",
    "version": 3
   },
   "file_extension": ".py",
   "mimetype": "text/x-python",
   "name": "python",
   "nbconvert_exporter": "python",
   "pygments_lexer": "ipython3",
   "version": "3.6.1"
  }
 },
 "nbformat": 4,
 "nbformat_minor": 2
}
