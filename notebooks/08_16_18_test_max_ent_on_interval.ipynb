{
 "cells": [
  {
   "cell_type": "code",
   "execution_count": 1,
   "metadata": {
    "collapsed": true
   },
   "outputs": [],
   "source": [
    "%matplotlib inline\n",
    "%load_ext autoreload\n",
    "%autoreload 2\n",
    "\n",
    "import matplotlib.pyplot as plt\n",
    "import numpy as np\n",
    "import tensorflow as tf\n",
    "from tf_util.systems import system_from_str\n",
    "from train_dsn import train_dsn\n",
    "import seaborn as sns"
   ]
  },
  {
   "cell_type": "code",
   "execution_count": 2,
   "metadata": {},
   "outputs": [
    {
     "name": "stdout",
     "output_type": "stream",
     "text": [
      "null_on_interval\n"
     ]
    }
   ],
   "source": [
    "D = 1;\n",
    "system_str = 'null_on_interval';\n",
    "a = 0;\n",
    "b = 10.0;\n",
    "\n",
    "system_class = system_from_str(system_str);\n",
    "system = system_class(a, b);\n",
    "print(system.name)"
   ]
  },
  {
   "cell_type": "code",
   "execution_count": 4,
   "metadata": {
    "scrolled": true
   },
   "outputs": [
    {
     "name": "stdout",
     "output_type": "stream",
     "text": [
      "c_init 1.0\n",
      "results//tb/null_on_interval_D=0_T=1_flow=5P_rs=0/\n",
      "0 <tf_util.flows.PlanarFlowLayer object at 0x129fdc198>\n",
      "1 <tf_util.flows.PlanarFlowLayer object at 0x129fdccf8>\n",
      "2 <tf_util.flows.PlanarFlowLayer object at 0x129fdc748>\n",
      "3 <tf_util.flows.PlanarFlowLayer object at 0x129fdca20>\n",
      "4 <tf_util.flows.PlanarFlowLayer object at 0x129fdc898>\n",
      "Tensor(\"Const_10:0\", shape=(0, 1), dtype=float64)\n",
      "<tensorflow.python.ops.init_ops.VarianceScaling object at 0x129fdcc88>\n",
      "Tensor(\"Const_11:0\", shape=(1, 1), dtype=float64)\n",
      "Tensor(\"Const_12:0\", shape=(0, 1), dtype=float64)\n",
      "<tensorflow.python.ops.init_ops.VarianceScaling object at 0x12a9a5cc0>\n",
      "Tensor(\"Const_13:0\", shape=(1, 1), dtype=float64)\n",
      "Tensor(\"Const_14:0\", shape=(0, 1), dtype=float64)\n",
      "<tensorflow.python.ops.init_ops.VarianceScaling object at 0x12a9a56a0>\n",
      "Tensor(\"Const_15:0\", shape=(1, 1), dtype=float64)\n",
      "Tensor(\"Const_16:0\", shape=(0, 1), dtype=float64)\n",
      "<tensorflow.python.ops.init_ops.VarianceScaling object at 0x12a9aac88>\n",
      "Tensor(\"Const_17:0\", shape=(1, 1), dtype=float64)\n",
      "Tensor(\"Const_18:0\", shape=(0, 1), dtype=float64)\n",
      "<tensorflow.python.ops.init_ops.VarianceScaling object at 0x12a388e48>\n",
      "Tensor(\"Const_19:0\", shape=(1, 1), dtype=float64)\n",
      "zshapes in\n",
      "connect flow\n",
      "(?, ?, 0, ?)\n",
      "0 PlanarFlow_Layer1\n",
      "(?, ?, ?, ?)\n",
      "1 PlanarFlow_Layer2\n",
      "(?, ?, ?, ?)\n",
      "2 PlanarFlow_Layer3\n",
      "(?, ?, ?, ?)\n",
      "3 PlanarFlow_Layer4\n",
      "(?, ?, ?, ?)\n",
      "4 PlanarFlow_Layer5\n",
      "(?, ?, ?, ?)\n",
      "5 IntervalFlowLayer\n",
      "(?, ?, ?, ?)\n",
      "train network\n"
     ]
    },
    {
     "name": "stderr",
     "output_type": "stream",
     "text": [
      "/Users/sbittner/Documents/dsn/lib/tf_util/flows.py:233: RuntimeWarning: invalid value encountered in log\n",
      "  log_det_jacobian = tf.reduce_sum(np.log(m) + tf.log(1.0 - (tanh_z**2)), [2,3]);\n"
     ]
    },
    {
     "name": "stdout",
     "output_type": "stream",
     "text": [
      "training DSN for null_on_interval: dt=0.001, T=1\n",
      "AL iteration 1\n",
      "resetting optimizer\n",
      "saving model at iter 0\n",
      "******************************************\n",
      "it = 100 \n",
      "H -0.0\n",
      "cost 0.0\n",
      "system.D 0\n"
     ]
    },
    {
     "data": {
      "text/plain": [
       "<matplotlib.figure.Figure at 0x122cea978>"
      ]
     },
     "metadata": {},
     "output_type": "display_data"
    },
    {
     "data": {
      "image/png": "[encoded data removed]",
      "text/plain": [
       "<matplotlib.figure.Figure at 0x129f53c18>"
      ]
     },
     "metadata": {},
     "output_type": "display_data"
    },
    {
     "name": "stdout",
     "output_type": "stream",
     "text": [
      "saving to results//tb/null_on_interval_D=0_T=1_flow=5P_rs=0/  ...\n",
      "******************************************\n",
      "Doubling memory allocation for parameter logging.\n",
      "******************************************\n",
      "it = 200 \n",
      "H -0.0\n",
      "cost 0.0\n",
      "system.D 0\n"
     ]
    },
    {
     "data": {
      "text/plain": [
       "<matplotlib.figure.Figure at 0x1089974e0>"
      ]
     },
     "metadata": {},
     "output_type": "display_data"
    },
    {
     "data": {
      "image/png": "[encoded data removed]",
      "text/plain": [
       "<matplotlib.figure.Figure at 0x122c0afd0>"
      ]
     },
     "metadata": {},
     "output_type": "display_data"
    },
    {
     "name": "stdout",
     "output_type": "stream",
     "text": [
      "saving to results//tb/null_on_interval_D=0_T=1_flow=5P_rs=0/  ...\n",
      "******************************************\n",
      "Doubling memory allocation for parameter logging.\n",
      "******************************************\n",
      "it = 300 \n",
      "H -0.0\n",
      "cost 0.0\n",
      "system.D 0\n"
     ]
    },
    {
     "data": {
      "text/plain": [
       "<matplotlib.figure.Figure at 0x106a413c8>"
      ]
     },
     "metadata": {},
     "output_type": "display_data"
    },
    {
     "data": {
      "image/png": "[encoded data removed]",
      "text/plain": [
       "<matplotlib.figure.Figure at 0x10a035c88>"
      ]
     },
     "metadata": {},
     "output_type": "display_data"
    },
    {
     "name": "stdout",
     "output_type": "stream",
     "text": [
      "saving to results//tb/null_on_interval_D=0_T=1_flow=5P_rs=0/  ...\n",
      "******************************************\n",
      "******************************************\n",
      "it = 400 \n",
      "H -0.0\n",
      "cost 0.0\n",
      "system.D 0\n"
     ]
    },
    {
     "data": {
      "text/plain": [
       "<matplotlib.figure.Figure at 0x12a94a748>"
      ]
     },
     "metadata": {},
     "output_type": "display_data"
    },
    {
     "data": {
      "image/png": "[encoded data removed]",
      "text/plain": [
       "<matplotlib.figure.Figure at 0x1295c2198>"
      ]
     },
     "metadata": {},
     "output_type": "display_data"
    },
    {
     "name": "stdout",
     "output_type": "stream",
     "text": [
      "saving to results//tb/null_on_interval_D=0_T=1_flow=5P_rs=0/  ...\n",
      "******************************************\n",
      "Doubling memory allocation for parameter logging.\n",
      "******************************************\n",
      "it = 500 \n",
      "H -0.0\n",
      "cost 0.0\n",
      "system.D 0\n"
     ]
    },
    {
     "data": {
      "text/plain": [
       "<matplotlib.figure.Figure at 0x1080507b8>"
      ]
     },
     "metadata": {},
     "output_type": "display_data"
    },
    {
     "data": {
      "image/png": "[encoded data removed]",
      "text/plain": [
       "<matplotlib.figure.Figure at 0x12a94a1d0>"
      ]
     },
     "metadata": {},
     "output_type": "display_data"
    },
    {
     "name": "stdout",
     "output_type": "stream",
     "text": [
      "saving to results//tb/null_on_interval_D=0_T=1_flow=5P_rs=0/  ...\n",
      "******************************************\n",
      "******************************************\n",
      "it = 600 \n",
      "H -0.0\n",
      "cost 0.0\n",
      "system.D 0\n"
     ]
    },
    {
     "data": {
      "text/plain": [
       "<matplotlib.figure.Figure at 0x1069b5240>"
      ]
     },
     "metadata": {},
     "output_type": "display_data"
    },
    {
     "data": {
      "image/png": "[encoded data removed]",
      "text/plain": [
       "<matplotlib.figure.Figure at 0x12a94aa20>"
      ]
     },
     "metadata": {},
     "output_type": "display_data"
    },
    {
     "name": "stdout",
     "output_type": "stream",
     "text": [
      "saving to results//tb/null_on_interval_D=0_T=1_flow=5P_rs=0/  ...\n",
      "******************************************\n",
      "******************************************\n",
      "it = 700 \n",
      "H -0.0\n",
      "cost 0.0\n",
      "system.D 0\n"
     ]
    },
    {
     "data": {
      "text/plain": [
       "<matplotlib.figure.Figure at 0x12971bb38>"
      ]
     },
     "metadata": {},
     "output_type": "display_data"
    },
    {
     "data": {
      "image/png": "[encoded data removed]",
      "text/plain": [
       "<matplotlib.figure.Figure at 0x129a26f98>"
      ]
     },
     "metadata": {},
     "output_type": "display_data"
    },
    {
     "name": "stdout",
     "output_type": "stream",
     "text": [
      "saving to results//tb/null_on_interval_D=0_T=1_flow=5P_rs=0/  ...\n",
      "******************************************\n",
      "******************************************\n",
      "it = 800 \n",
      "H -0.0\n",
      "cost 0.0\n",
      "system.D 0\n"
     ]
    },
    {
     "data": {
      "text/plain": [
       "<matplotlib.figure.Figure at 0x129b2d080>"
      ]
     },
     "metadata": {},
     "output_type": "display_data"
    },
    {
     "data": {
      "image/png": "[encoded data removed]",
      "text/plain": [
       "<matplotlib.figure.Figure at 0x12bac5ef0>"
      ]
     },
     "metadata": {},
     "output_type": "display_data"
    },
    {
     "name": "stdout",
     "output_type": "stream",
     "text": [
      "saving to results//tb/null_on_interval_D=0_T=1_flow=5P_rs=0/  ...\n",
      "******************************************\n",
      "******************************************\n",
      "it = 900 \n",
      "H -0.0\n",
      "cost 0.0\n",
      "system.D 0\n"
     ]
    },
    {
     "data": {
      "text/plain": [
       "<matplotlib.figure.Figure at 0x122d17400>"
      ]
     },
     "metadata": {},
     "output_type": "display_data"
    },
    {
     "data": {
      "image/png": "[encoded data removed]",
      "text/plain": [
       "<matplotlib.figure.Figure at 0x122d17a90>"
      ]
     },
     "metadata": {},
     "output_type": "display_data"
    },
    {
     "name": "stdout",
     "output_type": "stream",
     "text": [
      "saving to results//tb/null_on_interval_D=0_T=1_flow=5P_rs=0/  ...\n",
      "******************************************\n",
      "Doubling memory allocation for parameter logging.\n",
      "******************************************\n",
      "it = 1000 \n",
      "H -0.0\n",
      "cost 0.0\n",
      "system.D 0\n"
     ]
    },
    {
     "data": {
      "text/plain": [
       "<matplotlib.figure.Figure at 0x106a3ef60>"
      ]
     },
     "metadata": {},
     "output_type": "display_data"
    },
    {
     "data": {
      "image/png": "[encoded data removed]",
      "text/plain": [
       "<matplotlib.figure.Figure at 0x1080dc208>"
      ]
     },
     "metadata": {},
     "output_type": "display_data"
    },
    {
     "name": "stdout",
     "output_type": "stream",
     "text": [
      "saving to results//tb/null_on_interval_D=0_T=1_flow=5P_rs=0/  ...\n",
      "******************************************\n",
      "******************************************\n",
      "it = 1100 \n",
      "H -0.0\n",
      "cost 0.0\n",
      "system.D 0\n"
     ]
    },
    {
     "data": {
      "text/plain": [
       "<matplotlib.figure.Figure at 0x1297d4978>"
      ]
     },
     "metadata": {},
     "output_type": "display_data"
    },
    {
     "data": {
      "image/png": "[encoded data removed]",
      "text/plain": [
       "<matplotlib.figure.Figure at 0x129575748>"
      ]
     },
     "metadata": {},
     "output_type": "display_data"
    },
    {
     "name": "stdout",
     "output_type": "stream",
     "text": [
      "saving to results//tb/null_on_interval_D=0_T=1_flow=5P_rs=0/  ...\n",
      "******************************************\n",
      "******************************************\n",
      "it = 1200 \n",
      "H -0.0\n",
      "cost 0.0\n",
      "system.D 0\n"
     ]
    },
    {
     "data": {
      "text/plain": [
       "<matplotlib.figure.Figure at 0x1069bbeb8>"
      ]
     },
     "metadata": {},
     "output_type": "display_data"
    },
    {
     "data": {
      "image/png": "[encoded data removed]",
      "text/plain": [
       "<matplotlib.figure.Figure at 0x1080b3c88>"
      ]
     },
     "metadata": {},
     "output_type": "display_data"
    },
    {
     "name": "stdout",
     "output_type": "stream",
     "text": [
      "saving to results//tb/null_on_interval_D=0_T=1_flow=5P_rs=0/  ...\n",
      "******************************************\n",
      "******************************************\n",
      "it = 1300 \n",
      "H -0.0\n",
      "cost 0.0\n",
      "system.D 0\n"
     ]
    },
    {
     "data": {
      "text/plain": [
       "<matplotlib.figure.Figure at 0x108075da0>"
      ]
     },
     "metadata": {},
     "output_type": "display_data"
    },
    {
     "data": {
      "image/png": "[encoded data removed]",
      "text/plain": [
       "<matplotlib.figure.Figure at 0x106804208>"
      ]
     },
     "metadata": {},
     "output_type": "display_data"
    },
    {
     "name": "stdout",
     "output_type": "stream",
     "text": [
      "saving to results//tb/null_on_interval_D=0_T=1_flow=5P_rs=0/  ...\n",
      "******************************************\n",
      "******************************************\n",
      "it = 1400 \n",
      "H -0.0\n",
      "cost 0.0\n",
      "system.D 0\n"
     ]
    },
    {
     "data": {
      "text/plain": [
       "<matplotlib.figure.Figure at 0x12a75ac50>"
      ]
     },
     "metadata": {},
     "output_type": "display_data"
    },
    {
     "data": {
      "image/png": "[encoded data removed]",
      "text/plain": [
       "<matplotlib.figure.Figure at 0x10680d390>"
      ]
     },
     "metadata": {},
     "output_type": "display_data"
    },
    {
     "name": "stdout",
     "output_type": "stream",
     "text": [
      "saving to results//tb/null_on_interval_D=0_T=1_flow=5P_rs=0/  ...\n",
      "******************************************\n",
      "******************************************\n",
      "it = 1500 \n",
      "H -0.0\n",
      "cost 0.0\n",
      "system.D 0\n"
     ]
    },
    {
     "data": {
      "text/plain": [
       "<matplotlib.figure.Figure at 0x123341b70>"
      ]
     },
     "metadata": {},
     "output_type": "display_data"
    },
    {
     "data": {
      "image/png": "[encoded data removed]",
      "text/plain": [
       "<matplotlib.figure.Figure at 0x128546390>"
      ]
     },
     "metadata": {},
     "output_type": "display_data"
    },
    {
     "name": "stdout",
     "output_type": "stream",
     "text": [
      "saving to results//tb/null_on_interval_D=0_T=1_flow=5P_rs=0/  ...\n",
      "******************************************\n",
      "******************************************\n",
      "it = 1600 \n",
      "H -0.0\n",
      "cost 0.0\n",
      "system.D 0\n"
     ]
    },
    {
     "data": {
      "text/plain": [
       "<matplotlib.figure.Figure at 0x12aa71cf8>"
      ]
     },
     "metadata": {},
     "output_type": "display_data"
    },
    {
     "data": {
      "image/png": "[encoded data removed]",
      "text/plain": [
       "<matplotlib.figure.Figure at 0x1284efa20>"
      ]
     },
     "metadata": {},
     "output_type": "display_data"
    },
    {
     "name": "stdout",
     "output_type": "stream",
     "text": [
      "saving to results//tb/null_on_interval_D=0_T=1_flow=5P_rs=0/  ...\n",
      "******************************************\n",
      "******************************************\n",
      "it = 1700 \n",
      "H -0.0\n",
      "cost 0.0\n",
      "system.D 0\n"
     ]
    },
    {
     "data": {
      "text/plain": [
       "<matplotlib.figure.Figure at 0x10897f9b0>"
      ]
     },
     "metadata": {},
     "output_type": "display_data"
    },
    {
     "data": {
      "image/png": "[encoded data removed]",
      "text/plain": [
       "<matplotlib.figure.Figure at 0x128566f98>"
      ]
     },
     "metadata": {},
     "output_type": "display_data"
    },
    {
     "name": "stdout",
     "output_type": "stream",
     "text": [
      "saving to results//tb/null_on_interval_D=0_T=1_flow=5P_rs=0/  ...\n",
      "******************************************\n",
      "******************************************\n",
      "it = 1800 \n",
      "H -0.0\n",
      "cost 0.0\n",
      "system.D 0\n"
     ]
    },
    {
     "data": {
      "text/plain": [
       "<matplotlib.figure.Figure at 0x1233da518>"
      ]
     },
     "metadata": {},
     "output_type": "display_data"
    },
    {
     "data": {
      "image/png": "[encoded data removed]",
      "text/plain": [
       "<matplotlib.figure.Figure at 0x1233dad30>"
      ]
     },
     "metadata": {},
     "output_type": "display_data"
    },
    {
     "name": "stdout",
     "output_type": "stream",
     "text": [
      "saving to results//tb/null_on_interval_D=0_T=1_flow=5P_rs=0/  ...\n",
      "******************************************\n",
      "******************************************\n",
      "it = 1900 \n",
      "H -0.0\n",
      "cost 0.0\n",
      "system.D 0\n"
     ]
    },
    {
     "data": {
      "text/plain": [
       "<matplotlib.figure.Figure at 0x12334f748>"
      ]
     },
     "metadata": {},
     "output_type": "display_data"
    },
    {
     "data": {
      "image/png": "[encoded data removed]",
      "text/plain": [
       "<matplotlib.figure.Figure at 0x12a9a5c18>"
      ]
     },
     "metadata": {},
     "output_type": "display_data"
    },
    {
     "name": "stdout",
     "output_type": "stream",
     "text": [
      "saving to results//tb/null_on_interval_D=0_T=1_flow=5P_rs=0/  ...\n",
      "******************************************\n",
      "Doubling memory allocation for parameter logging.\n",
      "******************************************\n",
      "it = 2000 \n",
      "H -0.0\n",
      "cost 0.0\n",
      "system.D 0\n"
     ]
    },
    {
     "data": {
      "text/plain": [
       "<matplotlib.figure.Figure at 0x108072828>"
      ]
     },
     "metadata": {},
     "output_type": "display_data"
    },
    {
     "data": {
      "image/png": "[encoded data removed]",
      "text/plain": [
       "<matplotlib.figure.Figure at 0x11cda4588>"
      ]
     },
     "metadata": {},
     "output_type": "display_data"
    },
    {
     "name": "stdout",
     "output_type": "stream",
     "text": [
      "saving to results//tb/null_on_interval_D=0_T=1_flow=5P_rs=0/  ...\n",
      "******************************************\n",
      "saving to results//tb/null_on_interval_D=0_T=1_flow=5P_rs=0/\n",
      "c_init 1.0\n",
      "results//tb/null_on_interval_D=0_T=1_flow=5P_rs=1/\n",
      "0 <tf_util.flows.PlanarFlowLayer object at 0x12a4e6198>\n",
      "1 <tf_util.flows.PlanarFlowLayer object at 0x12a4e6160>\n",
      "2 <tf_util.flows.PlanarFlowLayer object at 0x12a4e6208>\n",
      "3 <tf_util.flows.PlanarFlowLayer object at 0x12a4e60f0>\n",
      "4 <tf_util.flows.PlanarFlowLayer object at 0x12a4e62b0>\n",
      "Tensor(\"Const_10:0\", shape=(0, 1), dtype=float64)\n",
      "<tensorflow.python.ops.init_ops.VarianceScaling object at 0x11cdb18d0>\n",
      "Tensor(\"Const_11:0\", shape=(1, 1), dtype=float64)\n",
      "Tensor(\"Const_12:0\", shape=(0, 1), dtype=float64)\n",
      "<tensorflow.python.ops.init_ops.VarianceScaling object at 0x1080b4390>\n",
      "Tensor(\"Const_13:0\", shape=(1, 1), dtype=float64)\n",
      "Tensor(\"Const_14:0\", shape=(0, 1), dtype=float64)\n",
      "<tensorflow.python.ops.init_ops.VarianceScaling object at 0x1080ac780>\n",
      "Tensor(\"Const_15:0\", shape=(1, 1), dtype=float64)\n",
      "Tensor(\"Const_16:0\", shape=(0, 1), dtype=float64)\n",
      "<tensorflow.python.ops.init_ops.VarianceScaling object at 0x1080a9978>\n",
      "Tensor(\"Const_17:0\", shape=(1, 1), dtype=float64)\n",
      "Tensor(\"Const_18:0\", shape=(0, 1), dtype=float64)\n",
      "<tensorflow.python.ops.init_ops.VarianceScaling object at 0x12a978128>\n",
      "Tensor(\"Const_19:0\", shape=(1, 1), dtype=float64)\n",
      "zshapes in\n",
      "connect flow\n",
      "(?, ?, 0, ?)\n",
      "0 PlanarFlow_Layer1\n",
      "(?, ?, ?, ?)\n",
      "1 PlanarFlow_Layer2\n",
      "(?, ?, ?, ?)\n",
      "2 PlanarFlow_Layer3\n",
      "(?, ?, ?, ?)\n",
      "3 PlanarFlow_Layer4\n",
      "(?, ?, ?, ?)\n",
      "4 PlanarFlow_Layer5\n",
      "(?, ?, ?, ?)\n",
      "5 IntervalFlowLayer\n",
      "(?, ?, ?, ?)\n",
      "train network\n",
      "training DSN for null_on_interval: dt=0.001, T=1\n"
     ]
    },
    {
     "ename": "KeyboardInterrupt",
     "evalue": "",
     "output_type": "error",
     "traceback": [
      "\u001b[0;31m---------------------------------------------------------------------------\u001b[0m",
      "\u001b[0;31mKeyboardInterrupt\u001b[0m                         Traceback (most recent call last)",
      "\u001b[0;32m<ipython-input-4-19902d996f83>\u001b[0m in \u001b[0;36m<module>\u001b[0;34m()\u001b[0m\n\u001b[1;32m     15\u001b[0m \u001b[0;32mfor\u001b[0m \u001b[0mrandom_seed\u001b[0m \u001b[0;32min\u001b[0m \u001b[0mrange\u001b[0m\u001b[0;34m(\u001b[0m\u001b[0mnum_random_seeds\u001b[0m\u001b[0;34m)\u001b[0m\u001b[0;34m:\u001b[0m\u001b[0;34m\u001b[0m\u001b[0m\n\u001b[1;32m     16\u001b[0m     \u001b[0mnp\u001b[0m\u001b[0;34m.\u001b[0m\u001b[0mrandom\u001b[0m\u001b[0;34m.\u001b[0m\u001b[0mseed\u001b[0m\u001b[0;34m(\u001b[0m\u001b[0mrandom_seed\u001b[0m\u001b[0;34m)\u001b[0m\u001b[0;34m;\u001b[0m\u001b[0;34m\u001b[0m\u001b[0m\n\u001b[0;32m---> 17\u001b[0;31m     \u001b[0mcost\u001b[0m\u001b[0;34m,\u001b[0m \u001b[0mphi\u001b[0m\u001b[0;34m,\u001b[0m \u001b[0mT_x\u001b[0m \u001b[0;34m=\u001b[0m \u001b[0mtrain_dsn\u001b[0m\u001b[0;34m(\u001b[0m\u001b[0msystem\u001b[0m\u001b[0;34m,\u001b[0m \u001b[0;32mNone\u001b[0m\u001b[0;34m,\u001b[0m \u001b[0mn\u001b[0m\u001b[0;34m,\u001b[0m \u001b[0mflow_dict\u001b[0m\u001b[0;34m,\u001b[0m                            \u001b[0mk_max\u001b[0m\u001b[0;34m=\u001b[0m\u001b[0mk_max\u001b[0m\u001b[0;34m,\u001b[0m \u001b[0mlr_order\u001b[0m\u001b[0;34m=\u001b[0m\u001b[0mlr_order\u001b[0m\u001b[0;34m,\u001b[0m \u001b[0mcheck_rate\u001b[0m\u001b[0;34m=\u001b[0m\u001b[0mcheck_rate\u001b[0m\u001b[0;34m,\u001b[0m                            \u001b[0mmax_iters\u001b[0m\u001b[0;34m=\u001b[0m\u001b[0mmax_iters\u001b[0m\u001b[0;34m,\u001b[0m \u001b[0mrandom_seed\u001b[0m\u001b[0;34m=\u001b[0m\u001b[0mrandom_seed\u001b[0m\u001b[0;34m)\u001b[0m\u001b[0;34m;\u001b[0m\u001b[0;34m\u001b[0m\u001b[0m\n\u001b[0m\u001b[1;32m     18\u001b[0m     \u001b[0mphis\u001b[0m\u001b[0;34m.\u001b[0m\u001b[0mappend\u001b[0m\u001b[0;34m(\u001b[0m\u001b[0mphi\u001b[0m\u001b[0;34m)\u001b[0m\u001b[0;34m;\u001b[0m\u001b[0;34m\u001b[0m\u001b[0m\n\u001b[1;32m     19\u001b[0m     \u001b[0mcosts\u001b[0m\u001b[0;34m.\u001b[0m\u001b[0mappend\u001b[0m\u001b[0;34m(\u001b[0m\u001b[0mcost\u001b[0m\u001b[0;34m)\u001b[0m\u001b[0;34m;\u001b[0m\u001b[0;34m\u001b[0m\u001b[0m\n",
      "\u001b[0;32m~/Documents/dsn/train_dsn.py\u001b[0m in \u001b[0;36mtrain_dsn\u001b[0;34m(system, behavior, n, flow_dict, k_max, c_init, lr_order, check_rate, max_iters, random_seed)\u001b[0m\n\u001b[1;32m    140\u001b[0m \u001b[0;34m\u001b[0m\u001b[0m\n\u001b[1;32m    141\u001b[0m         \u001b[0mcost_i\u001b[0m\u001b[0;34m,\u001b[0m \u001b[0m_cost_grads\u001b[0m\u001b[0;34m,\u001b[0m \u001b[0msummary\u001b[0m \u001b[0;34m=\u001b[0m\u001b[0;31m \u001b[0m\u001b[0;31m\\\u001b[0m\u001b[0;34m\u001b[0m\u001b[0m\n\u001b[0;32m--> 142\u001b[0;31m                     \u001b[0msess\u001b[0m\u001b[0;34m.\u001b[0m\u001b[0mrun\u001b[0m\u001b[0;34m(\u001b[0m\u001b[0;34m[\u001b[0m\u001b[0mcost\u001b[0m\u001b[0;34m,\u001b[0m \u001b[0mcost_grads\u001b[0m\u001b[0;34m,\u001b[0m \u001b[0msummary_op\u001b[0m\u001b[0;34m]\u001b[0m\u001b[0;34m,\u001b[0m \u001b[0mfeed_dict\u001b[0m\u001b[0;34m)\u001b[0m\u001b[0;34m;\u001b[0m\u001b[0;34m\u001b[0m\u001b[0m\n\u001b[0m\u001b[1;32m    143\u001b[0m \u001b[0;34m\u001b[0m\u001b[0m\n\u001b[1;32m    144\u001b[0m         \u001b[0m_T_x_mu_centered\u001b[0m \u001b[0;34m=\u001b[0m \u001b[0msess\u001b[0m\u001b[0;34m.\u001b[0m\u001b[0mrun\u001b[0m\u001b[0;34m(\u001b[0m\u001b[0mT_x_mu_centered\u001b[0m\u001b[0;34m,\u001b[0m \u001b[0mfeed_dict\u001b[0m\u001b[0;34m)\u001b[0m\u001b[0;34m;\u001b[0m\u001b[0;34m\u001b[0m\u001b[0m\n",
      "\u001b[0;32m~/Library/Python/3.6/lib/python/site-packages/tensorflow/python/client/session.py\u001b[0m in \u001b[0;36mrun\u001b[0;34m(self, fetches, feed_dict, options, run_metadata)\u001b[0m\n\u001b[1;32m    898\u001b[0m     \u001b[0;32mtry\u001b[0m\u001b[0;34m:\u001b[0m\u001b[0;34m\u001b[0m\u001b[0m\n\u001b[1;32m    899\u001b[0m       result = self._run(None, fetches, feed_dict, options_ptr,\n\u001b[0;32m--> 900\u001b[0;31m                          run_metadata_ptr)\n\u001b[0m\u001b[1;32m    901\u001b[0m       \u001b[0;32mif\u001b[0m \u001b[0mrun_metadata\u001b[0m\u001b[0;34m:\u001b[0m\u001b[0;34m\u001b[0m\u001b[0m\n\u001b[1;32m    902\u001b[0m         \u001b[0mproto_data\u001b[0m \u001b[0;34m=\u001b[0m \u001b[0mtf_session\u001b[0m\u001b[0;34m.\u001b[0m\u001b[0mTF_GetBuffer\u001b[0m\u001b[0;34m(\u001b[0m\u001b[0mrun_metadata_ptr\u001b[0m\u001b[0;34m)\u001b[0m\u001b[0;34m\u001b[0m\u001b[0m\n",
      "\u001b[0;32m~/Library/Python/3.6/lib/python/site-packages/tensorflow/python/client/session.py\u001b[0m in \u001b[0;36m_run\u001b[0;34m(self, handle, fetches, feed_dict, options, run_metadata)\u001b[0m\n\u001b[1;32m   1133\u001b[0m     \u001b[0;32mif\u001b[0m \u001b[0mfinal_fetches\u001b[0m \u001b[0;32mor\u001b[0m \u001b[0mfinal_targets\u001b[0m \u001b[0;32mor\u001b[0m \u001b[0;34m(\u001b[0m\u001b[0mhandle\u001b[0m \u001b[0;32mand\u001b[0m \u001b[0mfeed_dict_tensor\u001b[0m\u001b[0;34m)\u001b[0m\u001b[0;34m:\u001b[0m\u001b[0;34m\u001b[0m\u001b[0m\n\u001b[1;32m   1134\u001b[0m       results = self._do_run(handle, final_targets, final_fetches,\n\u001b[0;32m-> 1135\u001b[0;31m                              feed_dict_tensor, options, run_metadata)\n\u001b[0m\u001b[1;32m   1136\u001b[0m     \u001b[0;32melse\u001b[0m\u001b[0;34m:\u001b[0m\u001b[0;34m\u001b[0m\u001b[0m\n\u001b[1;32m   1137\u001b[0m       \u001b[0mresults\u001b[0m \u001b[0;34m=\u001b[0m \u001b[0;34m[\u001b[0m\u001b[0;34m]\u001b[0m\u001b[0;34m\u001b[0m\u001b[0m\n",
      "\u001b[0;32m~/Library/Python/3.6/lib/python/site-packages/tensorflow/python/client/session.py\u001b[0m in \u001b[0;36m_do_run\u001b[0;34m(self, handle, target_list, fetch_list, feed_dict, options, run_metadata)\u001b[0m\n\u001b[1;32m   1314\u001b[0m     \u001b[0;32mif\u001b[0m \u001b[0mhandle\u001b[0m \u001b[0;32mis\u001b[0m \u001b[0;32mNone\u001b[0m\u001b[0;34m:\u001b[0m\u001b[0;34m\u001b[0m\u001b[0m\n\u001b[1;32m   1315\u001b[0m       return self._do_call(_run_fn, feeds, fetches, targets, options,\n\u001b[0;32m-> 1316\u001b[0;31m                            run_metadata)\n\u001b[0m\u001b[1;32m   1317\u001b[0m     \u001b[0;32melse\u001b[0m\u001b[0;34m:\u001b[0m\u001b[0;34m\u001b[0m\u001b[0m\n\u001b[1;32m   1318\u001b[0m       \u001b[0;32mreturn\u001b[0m \u001b[0mself\u001b[0m\u001b[0;34m.\u001b[0m\u001b[0m_do_call\u001b[0m\u001b[0;34m(\u001b[0m\u001b[0m_prun_fn\u001b[0m\u001b[0;34m,\u001b[0m \u001b[0mhandle\u001b[0m\u001b[0;34m,\u001b[0m \u001b[0mfeeds\u001b[0m\u001b[0;34m,\u001b[0m \u001b[0mfetches\u001b[0m\u001b[0;34m)\u001b[0m\u001b[0;34m\u001b[0m\u001b[0m\n",
      "\u001b[0;32m~/Library/Python/3.6/lib/python/site-packages/tensorflow/python/client/session.py\u001b[0m in \u001b[0;36m_do_call\u001b[0;34m(self, fn, *args)\u001b[0m\n\u001b[1;32m   1320\u001b[0m   \u001b[0;32mdef\u001b[0m \u001b[0m_do_call\u001b[0m\u001b[0;34m(\u001b[0m\u001b[0mself\u001b[0m\u001b[0;34m,\u001b[0m \u001b[0mfn\u001b[0m\u001b[0;34m,\u001b[0m \u001b[0;34m*\u001b[0m\u001b[0margs\u001b[0m\u001b[0;34m)\u001b[0m\u001b[0;34m:\u001b[0m\u001b[0;34m\u001b[0m\u001b[0m\n\u001b[1;32m   1321\u001b[0m     \u001b[0;32mtry\u001b[0m\u001b[0;34m:\u001b[0m\u001b[0;34m\u001b[0m\u001b[0m\n\u001b[0;32m-> 1322\u001b[0;31m       \u001b[0;32mreturn\u001b[0m \u001b[0mfn\u001b[0m\u001b[0;34m(\u001b[0m\u001b[0;34m*\u001b[0m\u001b[0margs\u001b[0m\u001b[0;34m)\u001b[0m\u001b[0;34m\u001b[0m\u001b[0m\n\u001b[0m\u001b[1;32m   1323\u001b[0m     \u001b[0;32mexcept\u001b[0m \u001b[0merrors\u001b[0m\u001b[0;34m.\u001b[0m\u001b[0mOpError\u001b[0m \u001b[0;32mas\u001b[0m \u001b[0me\u001b[0m\u001b[0;34m:\u001b[0m\u001b[0;34m\u001b[0m\u001b[0m\n\u001b[1;32m   1324\u001b[0m       \u001b[0mmessage\u001b[0m \u001b[0;34m=\u001b[0m \u001b[0mcompat\u001b[0m\u001b[0;34m.\u001b[0m\u001b[0mas_text\u001b[0m\u001b[0;34m(\u001b[0m\u001b[0me\u001b[0m\u001b[0;34m.\u001b[0m\u001b[0mmessage\u001b[0m\u001b[0;34m)\u001b[0m\u001b[0;34m\u001b[0m\u001b[0m\n",
      "\u001b[0;32m~/Library/Python/3.6/lib/python/site-packages/tensorflow/python/client/session.py\u001b[0m in \u001b[0;36m_run_fn\u001b[0;34m(feed_dict, fetch_list, target_list, options, run_metadata)\u001b[0m\n\u001b[1;32m   1305\u001b[0m       \u001b[0mself\u001b[0m\u001b[0;34m.\u001b[0m\u001b[0m_extend_graph\u001b[0m\u001b[0;34m(\u001b[0m\u001b[0;34m)\u001b[0m\u001b[0;34m\u001b[0m\u001b[0m\n\u001b[1;32m   1306\u001b[0m       return self._call_tf_sessionrun(\n\u001b[0;32m-> 1307\u001b[0;31m           options, feed_dict, fetch_list, target_list, run_metadata)\n\u001b[0m\u001b[1;32m   1308\u001b[0m \u001b[0;34m\u001b[0m\u001b[0m\n\u001b[1;32m   1309\u001b[0m     \u001b[0;32mdef\u001b[0m \u001b[0m_prun_fn\u001b[0m\u001b[0;34m(\u001b[0m\u001b[0mhandle\u001b[0m\u001b[0;34m,\u001b[0m \u001b[0mfeed_dict\u001b[0m\u001b[0;34m,\u001b[0m \u001b[0mfetch_list\u001b[0m\u001b[0;34m)\u001b[0m\u001b[0;34m:\u001b[0m\u001b[0;34m\u001b[0m\u001b[0m\n",
      "\u001b[0;32m~/Library/Python/3.6/lib/python/site-packages/tensorflow/python/client/session.py\u001b[0m in \u001b[0;36m_call_tf_sessionrun\u001b[0;34m(self, options, feed_dict, fetch_list, target_list, run_metadata)\u001b[0m\n\u001b[1;32m   1407\u001b[0m       return tf_session.TF_SessionRun_wrapper(\n\u001b[1;32m   1408\u001b[0m           \u001b[0mself\u001b[0m\u001b[0;34m.\u001b[0m\u001b[0m_session\u001b[0m\u001b[0;34m,\u001b[0m \u001b[0moptions\u001b[0m\u001b[0;34m,\u001b[0m \u001b[0mfeed_dict\u001b[0m\u001b[0;34m,\u001b[0m \u001b[0mfetch_list\u001b[0m\u001b[0;34m,\u001b[0m \u001b[0mtarget_list\u001b[0m\u001b[0;34m,\u001b[0m\u001b[0;34m\u001b[0m\u001b[0m\n\u001b[0;32m-> 1409\u001b[0;31m           run_metadata)\n\u001b[0m\u001b[1;32m   1410\u001b[0m     \u001b[0;32melse\u001b[0m\u001b[0;34m:\u001b[0m\u001b[0;34m\u001b[0m\u001b[0m\n\u001b[1;32m   1411\u001b[0m       \u001b[0;32mwith\u001b[0m \u001b[0merrors\u001b[0m\u001b[0;34m.\u001b[0m\u001b[0mraise_exception_on_not_ok_status\u001b[0m\u001b[0;34m(\u001b[0m\u001b[0;34m)\u001b[0m \u001b[0;32mas\u001b[0m \u001b[0mstatus\u001b[0m\u001b[0;34m:\u001b[0m\u001b[0;34m\u001b[0m\u001b[0m\n",
      "\u001b[0;31mKeyboardInterrupt\u001b[0m: "
     ]
    }
   ],
   "source": [
    "n = 2000;\n",
    "k_max = 1;\n",
    "check_rate = 100;\n",
    "max_iters = 2000;\n",
    "lr_order = -3;\n",
    "\n",
    "TIF_flow_type = 'PlanarFlowLayer';\n",
    "nlayers = 5;\n",
    "flow_dict = {'latent_dynamics':None, \\\n",
    "             'TIF_flow_type':TIF_flow_type, \\\n",
    "             'repeats':nlayers};\n",
    "\n",
    "\n",
    "num_random_seeds = 4;\n",
    "phis = [];\n",
    "costs = [];\n",
    "for random_seed in range(num_random_seeds):\n",
    "    np.random.seed(random_seed);\n",
    "    cost, phi, T_x = train_dsn(system, None, n, flow_dict, \\\n",
    "                           k_max=k_max, lr_order=lr_order, check_rate=check_rate, \\\n",
    "                           max_iters=max_iters, random_seed=random_seed);\n",
    "    phis.append(phi);\n",
    "    costs.append(cost);\n",
    "    \n",
    "\n",
    "\n"
   ]
  },
  {
   "cell_type": "code",
   "execution_count": null,
   "metadata": {},
   "outputs": [],
   "source": [
    "fontsize = 14;\n",
    "fig = plt.figure(figsize=(10,8));\n",
    "for i in range(num_random_seeds):\n",
    "    fig.add_subplot(2,4,i+1);\n",
    "    g = sns.distplot(phis[i], bins=20, norm_hist=True, kde=False);\n",
    "    plt.xlabel(r'$\\phi$', fontsize=fontsize);\n",
    "    plt.title('random seed = %d' % i);\n",
    "    if (i==0):\n",
    "        plt.ylabel(r'p($\\phi$)', fontsize=fontsize);\n",
    "    else:\n",
    "        g.set(yticklabels=[]);\n",
    "    plt.xlim([-2, 12]);\n",
    "    plt.ylim([0,.2]);\n",
    "    \n",
    "iters = np.arange(check_rate, max_iters+1, check_rate);\n",
    "for i in range(num_random_seeds):\n",
    "    fig.add_subplot(2,4,i+5);\n",
    "    plt.plot(iters, -costs[i], 'k');\n",
    "    plt.xlabel('iterations', fontsize=fontsize);\n",
    "    if (i==0):\n",
    "        plt.ylabel('H', fontsize=fontsize);\n",
    "    \n",
    "    \n",
    "plt.show();"
   ]
  },
  {
   "cell_type": "code",
   "execution_count": null,
   "metadata": {
    "collapsed": true
   },
   "outputs": [],
   "source": []
  }
 ],
 "metadata": {
  "kernelspec": {
   "display_name": "Python 3",
   "language": "python",
   "name": "python3"
  },
  "language_info": {
   "codemirror_mode": {
    "name": "ipython",
    "version": 3
   },
   "file_extension": ".py",
   "mimetype": "text/x-python",
   "name": "python",
   "nbconvert_exporter": "python",
   "pygments_lexer": "ipython3",
   "version": "3.6.1"
  }
 },
 "nbformat": 4,
 "nbformat_minor": 2
}
