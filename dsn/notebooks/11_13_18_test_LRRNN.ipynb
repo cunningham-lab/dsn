{
 "cells": [
  {
   "cell_type": "code",
   "execution_count": 4,
   "metadata": {},
   "outputs": [
    {
     "name": "stdout",
     "output_type": "stream",
     "text": [
      "The autoreload extension is already loaded. To reload it, use:\n",
      "  %reload_ext autoreload\n"
     ]
    }
   ],
   "source": [
    "%matplotlib inline\n",
    "%load_ext autoreload\n",
    "%autoreload 2|\n",
    "\n",
    "import matplotlib.pyplot as plt\n",
    "import numpy as np\n",
    "import tensorflow as tf\n",
    "from dsn.util.systems import system_from_str\n",
    "from dsn.train_dsn import train_dsn\n",
    "import seaborn as sns\n",
    "import pandas as pd\n",
    "\n",
    "from dsn.util import fct_integrals as integrals\n",
    "from dsn.util import tf_integrals as tf_integrals\n",
    "\n",
    "from dsn.util import fct_mf as mf\n",
    "\n"
   ]
  },
  {
   "cell_type": "code",
   "execution_count": 11,
   "metadata": {},
   "outputs": [],
   "source": [
    "### Set parameters\n",
    "\n",
    "Mm = 3.5      # Mean of m\n",
    "Mn = 1.       # Mean of n\n",
    "Mi = 0.0       # Mean of I\n",
    "\n",
    "Sim = 1.      # Std of m\n",
    "Sin = 1.      # Std of n\n",
    "Sip = 1.0      # Std of input orthogonal to m and n, along h (see Methods)\n",
    "\n",
    "g = 0.8\n",
    "tol = 1e-10;\n",
    "\n",
    "Sini_min = 0.0\n",
    "Sini_max = 2.\n",
    "num_vals = 40;\n",
    "Sini_values = np.linspace(Sini_min, Sini_max, num_vals)"
   ]
  },
  {
   "cell_type": "code",
   "execution_count": 41,
   "metadata": {},
   "outputs": [
    {
     "data": {
      "image/png": "[encoded data removed]",
      "text/plain": [
       "<Figure size 432x288 with 1 Axes>"
      ]
     },
     "metadata": {
      "needs_background": "light"
     },
     "output_type": "display_data"
    },
    {
     "name": "stdout",
     "output_type": "stream",
     "text": [
      "[[ 6.  6.  6.  6.  5.  5.  5.  5.  5.  5.  5.  5.  5.  5.  5.  5.  5.  5.\n",
      "   5.  5.  5.  5.  5.  5.  5.  5.  5.  5.  5.  5.  5.  5.  5.  5.  5.  5.\n",
      "   5.  5.  5.  5.]\n",
      " [ 5. 12. 11. 10. 10.  9.  9.  9.  9.  8.  8.  8.  8.  8.  8.  8.  7.  7.\n",
      "   7.  7.  7.  7.  7.  7.  7.  7.  7.  6.  6.  6.  6.  6.  6.  6.  6.  6.\n",
      "   6.  6.  6.  6.]]\n"
     ]
    }
   ],
   "source": [
    "ics_0 = np.array([1., 1., 1.], np.float64);\n",
    "ics_1 = np.array([1., 1., 0.0], np.float64);\n",
    "eps = 0.2;\n",
    "eps_approx = 0.8;\n",
    "tol_approx = 1e-2;\n",
    "\n",
    "Ks_valid = np.zeros((2,num_vals));\n",
    "Ks_approx = np.zeros((2,num_vals));\n",
    "count_approx = np.zeros((2,num_vals));\n",
    "for i in range(num_vals):\n",
    "    Sini = Sini_values[i];\n",
    "    ParVec = [Mm, Mn, Mi, Sim, Sin, Sini, Sip];\n",
    "    \n",
    "    ys, count = mf.SolveStatic(ics_0, g, ParVec, eps, tol);\n",
    "    Ks_valid[0,i] = ys[-1,2];\n",
    "    \n",
    "    ys, count = mf.SolveStatic(ics_0, g, ParVec, eps_approx, tol_approx);\n",
    "    Ks_approx[0,i] = ys[-1,2];\n",
    "    count_approx[0,i] = count;\n",
    "    \n",
    "    ys, count = mf.SolveStatic(ics_1, g, ParVec, eps, tol);\n",
    "    Ks_valid[1,i] = ys[-1,2];\n",
    "    \n",
    "    ys, count = mf.SolveStatic(ics_1, g, ParVec, eps_approx, tol_approx);\n",
    "    Ks_approx[1,i] = ys[-1,2];\n",
    "    count_approx[1,i] = count;\n",
    "    \n",
    "    \n",
    "    \n",
    "plt.figure();\n",
    "plt.plot(Sini_values, Ks_valid.T, 'r');\n",
    "plt.plot(Sini_values, Ks_approx.T, 'g');\n",
    "plt.show();\n",
    "\n",
    "print(count_approx);\n",
    "\n"
   ]
  },
  {
   "cell_type": "code",
   "execution_count": 39,
   "metadata": {},
   "outputs": [
    {
     "data": {
      "text/plain": [
       "[<matplotlib.lines.Line2D at 0x1a267c9ba8>]"
      ]
     },
     "execution_count": 39,
     "metadata": {},
     "output_type": "execute_result"
    },
    {
     "data": {
      "image/png": "[encoded data removed]",
      "text/plain": [
       "<Figure size 432x288 with 1 Axes>"
      ]
     },
     "metadata": {
      "needs_background": "light"
     },
     "output_type": "display_data"
    }
   ],
   "source": [
    "plt.plot(ys[:,0])"
   ]
  },
  {
   "cell_type": "code",
   "execution_count": null,
   "metadata": {},
   "outputs": [],
   "source": []
  }
 ],
 "metadata": {
  "kernelspec": {
   "display_name": "Python [conda env:dsn]",
   "language": "python",
   "name": "conda-env-dsn-py"
  },
  "language_info": {
   "codemirror_mode": {
    "name": "ipython",
    "version": 3
   },
   "file_extension": ".py",
   "mimetype": "text/x-python",
   "name": "python",
   "nbconvert_exporter": "python",
   "pygments_lexer": "ipython3",
   "version": "3.6.7"
  }
 },
 "nbformat": 4,
 "nbformat_minor": 2
}
