{
 "cells": [
  {
   "cell_type": "code",
   "execution_count": 1,
   "metadata": {
    "collapsed": true
   },
   "outputs": [],
   "source": [
    "%matplotlib inline\n",
    "%load_ext autoreload\n",
    "%autoreload 2\n",
    "\n",
    "import matplotlib.pyplot as plt\n",
    "import numpy as np\n",
    "import tensorflow as tf\n",
    "from tf_util.systems import system_from_str\n",
    "from train_dsn import train_dsn\n",
    "import seaborn as sns\n",
    "import pandas as pd\n",
    "\n",
    "from util import fct_integrals as integrals\n",
    "from util import tf_integrals as tf_integrals\n",
    "\n",
    "from util import fct_mf as mf\n",
    "\n"
   ]
  },
  {
   "cell_type": "code",
   "execution_count": 5,
   "metadata": {
    "collapsed": true
   },
   "outputs": [],
   "source": [
    "TIF_flow_type = 'PlanarFlowLayer';\n",
    "nlayers = 10;\n",
    "flow_dict = {'latent_dynamics':None, \\\n",
    "             'TIF_flow_type':TIF_flow_type, \\\n",
    "             'repeats':nlayers, \\\n",
    "             'scale_layer':False};\n",
    "\n",
    "n = 1000;\n",
    "k_max = 1;\n",
    "c_init = 1e4;\n",
    "check_rate = 100;\n",
    "max_iters = 10000;\n",
    "lr_order = -3;\n",
    "random_seed = 0;\n",
    "\n",
    "def compute_bistable_mu(Sini, ics_0, ics_1):\n",
    "    ### Set parameters\n",
    "\n",
    "    Mm = 3.5      # Mean of m\n",
    "    Mn = 1.       # Mean of n\n",
    "    Mi = 0.       # Mean of I\n",
    "\n",
    "    Sim = 1.      # Std of m\n",
    "    Sin = 1.      # Std of n\n",
    "    Sip = 1.      # Std of input orthogonal to m and n, along h (see Methods)\n",
    "\n",
    "    g = 0.8\n",
    "    tol = 1e-10;\n",
    "    \n",
    "    eps = 0.2;\n",
    "    \n",
    "    ParVec = [Mm, Mn, Mi, Sim, Sin, Sini, Sip];\n",
    "    ys0, count = mf.SolveStatic(ics_0, g, ParVec, eps, tol);\n",
    "    ys1, count = mf.SolveStatic(ics_1, g, ParVec, eps, tol);\n",
    "    \n",
    "    ss0 = ys0[-1,2];\n",
    "    ss1 = ys1[-1,2];\n",
    "    mu = np.array([ss0, ss1]);\n",
    "    return mu;"
   ]
  },
  {
   "cell_type": "code",
   "execution_count": null,
   "metadata": {},
   "outputs": [],
   "source": [
    "system_str = 'rank1_rnn';\n",
    "\n",
    "K = 1;\n",
    "M = n;\n",
    "behavior_str = 'bistable';\n",
    "D = 10;\n",
    "T = 10;\n",
    "Sini = 0.5;\n",
    "ics_0 = np.array([5., 5., 5.], np.float64);\n",
    "ics_1 = np.array([-5., 5., -5.], np.float64);\n",
    "\n",
    "Ics_0 = np.tile(np.expand_dims(np.expand_dims(ics_0, 0), 1), [K,M,1]);\n",
    "Ics_1 = np.tile(np.expand_dims(np.expand_dims(ics_1, 0), 1), [K,M,1]);\n",
    "\n",
    "system_class = system_from_str(system_str);\n",
    "system = system_class(D, T, Sini, Ics_0, Ics_1, behavior_str);\n",
    "\n",
    "mu = compute_bistable_mu(Sini, ics_0, ics_1);\n",
    "Sigma = 0.01*np.ones((2,));\n",
    "behavior = {'mu':mu, 'Sigma':Sigma};\n",
    "\n",
    "\n",
    "\n",
    "cost, phi, T_x = train_dsn(system, behavior, n, flow_dict, \\\n",
    "                       k_max=k_max, c_init=c_init, lr_order=lr_order, check_rate=check_rate, \\\n",
    "                       max_iters=max_iters, random_seed=random_seed);\n",
    "\n"
   ]
  },
  {
   "cell_type": "code",
   "execution_count": null,
   "metadata": {
    "collapsed": true
   },
   "outputs": [],
   "source": []
  }
 ],
 "metadata": {
  "kernelspec": {
   "display_name": "Python 3",
   "language": "python",
   "name": "python3"
  },
  "language_info": {
   "codemirror_mode": {
    "name": "ipython",
    "version": 3
   },
   "file_extension": ".py",
   "mimetype": "text/x-python",
   "name": "python",
   "nbconvert_exporter": "python",
   "pygments_lexer": "ipython3",
   "version": "3.6.1"
  }
 },
 "nbformat": 4,
 "nbformat_minor": 2
}
