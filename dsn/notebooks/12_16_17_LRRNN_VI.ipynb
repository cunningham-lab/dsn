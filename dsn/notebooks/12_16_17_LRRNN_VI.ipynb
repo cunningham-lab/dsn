{
 "cells": [
  {
   "cell_type": "code",
   "execution_count": 12,
   "metadata": {},
   "outputs": [],
   "source": [
    "%matplotlib inline\n",
    "\n",
    "import numpy as np\n",
    "import tensorflow as tf\n",
    "import matplotlib.pyplot as plt\n",
    "\n",
    "\n",
    "class RNN:\n",
    "    \n",
    "    def __init__(self, num_neurons, prior, task):\n",
    "        self.num_neurons = num_neurons\n",
    "        self.prior = prior\n",
    "        with tf.variable_scope(\"rnn\", reuse=tf.AUTO_REUSE):\n",
    "            self.mu = tf.get_variable('mu', shape=(num_neurons, num_neurons,), dtype=tf.float32);\n",
    "            self.rho = tf.get_variable('rho', shape=(num_neurons, num_neurons), dtype=tf.float32);\n",
    "        self.sigma = tf.log(1.0 + tf.exp(self.rho));\n",
    "        self.dt = 0.1;\n",
    "        self.likelihood_var = 1.0;\n",
    "        \n",
    "    def forward(self, x0, h, W, num_timepts):\n",
    "        xs = [x0];\n",
    "        x = x0;\n",
    "        for i in range(num_timepts):\n",
    "            xdot = -x + tf.matmul(W, tf.tanh(x)) + h;\n",
    "            x += self.dt*xdot;\n",
    "            xs.append(x);\n",
    "        return x, tf.concat(xs, 2);\n",
    "            \n",
    "    def draw_W(self, num_batch):\n",
    "        eps = tf.random.normal((num_batch, self.num_neurons, self.num_neurons));\n",
    "        W = tf.multiply(tf.expand_dims(self.sigma, 0), eps) + tf.expand_dims(self.mu, 0);\n",
    "        return W;\n",
    "    \n",
    "    def likelihood(self, y, target):\n",
    "        likelihood = -tf.reduce_sum(tf.square(y - target));\n",
    "        return likelihood;\n",
    "    \n",
    "    def \n",
    "    "
   ]
  },
  {
   "cell_type": "code",
   "execution_count": 13,
   "metadata": {},
   "outputs": [],
   "source": [
    "def rnn_vi(num_neurons, task, prior):\n",
    "    num_batch = 100;\n",
    "    num_init = 10;\n",
    "    rnn = RNN(num_neurons, num_y, prior);\n",
    "    \n",
    "    if (task == 'GNG'):\n",
    "        num_y = 1;\n",
    "        h = np.random.normal(0, 1, (1, num_neurons, 1));\n",
    "        C = np.random.normal(0, 1, (1, num_y, num_neurons));\n",
    "        target = np.ones(1, num_y, 1);\n",
    "        \n",
    "    \n",
    "    x0 = tf.random.normal(shape=(num_init, num_neurons,));\n",
    "    x0 = tf.reshape(tf.tile(tf.expand_dims(x0,1), [num_batch, 1, 1]), [num_batch*num_init, num_neurons, 1]);\n",
    "    \n",
    "    W = rnn.draw_W(num_batch);\n",
    "    W = tf.reshape(tf.tile(tf.expand_dims(W, 1), [1, num_init, 1, 1]), [num_batch*num_init, num_neurons, num_neurons]);\n",
    "    \n",
    "    num_timepts = 20;\n",
    "    \n",
    "    x, xs = rnn.forward(x0, h, W, num_timepts);\n",
    "    y = tf.matmul(C, x);\n",
    "    ys = tf.matmul(C, xs);\n",
    "    \n",
    "    if (task == 'GNG'):\n",
    "        likelihood = rnn.likelihood(y, target)\n",
    "    \n",
    "    return rnn, x, xs\n",
    "\n"
   ]
  },
  {
   "cell_type": "code",
   "execution_count": 14,
   "metadata": {},
   "outputs": [],
   "source": [
    "num_neurons = 100;\n",
    "task = 'GNG';\n",
    "prior = {'mu': np.zeros((num_neurons,)), 'sigma': np.ones((num_neurons,))};\n",
    "\n",
    "rnn, x, xs = rnn_vi(num_neurons, task, prior);"
   ]
  },
  {
   "cell_type": "code",
   "execution_count": 15,
   "metadata": {},
   "outputs": [],
   "source": [
    "with tf.Session() as sess:\n",
    "    sess.run(tf.global_variables_initializer());\n",
    "    _xs = sess.run(xs);\n"
   ]
  },
  {
   "cell_type": "code",
   "execution_count": 16,
   "metadata": {},
   "outputs": [
    {
     "data": {
      "image/png": "[encoded data removed]",
      "text/plain": [
       "<Figure size 432x288 with 1 Axes>"
      ]
     },
     "metadata": {
      "needs_background": "light"
     },
     "output_type": "display_data"
    }
   ],
   "source": [
    "plt.plot(_xs[0, 0, :]);\n",
    "plt.plot(_xs[1, 0, :]);"
   ]
  },
  {
   "cell_type": "code",
   "execution_count": null,
   "metadata": {},
   "outputs": [],
   "source": []
  }
 ],
 "metadata": {
  "kernelspec": {
   "display_name": "Python [conda env:dsn]",
   "language": "python",
   "name": "conda-env-dsn-py"
  },
  "language_info": {
   "codemirror_mode": {
    "name": "ipython",
    "version": 3
   },
   "file_extension": ".py",
   "mimetype": "text/x-python",
   "name": "python",
   "nbconvert_exporter": "python",
   "pygments_lexer": "ipython3",
   "version": "3.6.7"
  }
 },
 "nbformat": 4,
 "nbformat_minor": 2
}
