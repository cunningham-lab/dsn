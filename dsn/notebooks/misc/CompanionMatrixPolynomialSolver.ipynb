{
 "cells": [
  {
   "cell_type": "code",
   "execution_count": 2,
   "metadata": {},
   "outputs": [],
   "source": [
    "%matplotlib inline\n",
    "import matplotlib.pyplot as plt\n",
    "import numpy as np\n"
   ]
  },
  {
   "cell_type": "markdown",
   "metadata": {},
   "source": [
    "## Testing the companion matrix solver method with numpy\n",
    "\n",
    "$$(x-2)^2(x+4)(x-3) = x^4 - 3x^3 - 12x^2 - 44x - 48$$"
   ]
  },
  {
   "cell_type": "code",
   "execution_count": 30,
   "metadata": {},
   "outputs": [
    {
     "name": "stdout",
     "output_type": "stream",
     "text": [
      "[[  0.   0.   0. -48.]\n",
      " [  1.   0.   0.  76.]\n",
      " [  0.   1.   0. -44.]\n",
      " [  0.   0.   1.  11.]]\n"
     ]
    }
   ],
   "source": [
    "a = np.array([48, -76, 44, -11])\n",
    "n = a.shape[0]\n",
    "\n",
    "C = np.concatenate([np.zeros((1,n-1)), np.eye(n-1)], axis=0)\n",
    "C = np.concatenate([C, np.expand_dims(-a, 1)], axis=1)\n",
    "\n",
    "print(C)\n",
    "\n",
    "v, d = np.linalg.eig(C)"
   ]
  },
  {
   "cell_type": "code",
   "execution_count": 32,
   "metadata": {},
   "outputs": [
    {
     "name": "stdout",
     "output_type": "stream",
     "text": [
      "[  2.27268855e-01   1.00000000e+00   1.00000000e+00   1.01377727e+04]\n"
     ]
    }
   ],
   "source": [
    "CC = np.matmul(C, C.T)\n",
    "d, v = np.linalg.eigh(CC)\n",
    "print(d)"
   ]
  },
  {
   "cell_type": "code",
   "execution_count": 19,
   "metadata": {},
   "outputs": [
    {
     "name": "stdout",
     "output_type": "stream",
     "text": [
      "[  1. -11.  44. -76.  48.]\n"
     ]
    }
   ],
   "source": [
    "p = [1, -3, -12, -44, -48]\n",
    "c = [4, 2, 2, 3]\n",
    "r = np.poly(c)\n",
    "print(r)"
   ]
  },
  {
   "cell_type": "code",
   "execution_count": null,
   "metadata": {},
   "outputs": [],
   "source": []
  }
 ],
 "metadata": {
  "kernelspec": {
   "display_name": "Python 3",
   "language": "python",
   "name": "python3"
  },
  "language_info": {
   "codemirror_mode": {
    "name": "ipython",
    "version": 3
   },
   "file_extension": ".py",
   "mimetype": "text/x-python",
   "name": "python",
   "nbconvert_exporter": "python",
   "pygments_lexer": "ipython3",
   "version": "3.6.1"
  }
 },
 "nbformat": 4,
 "nbformat_minor": 2
}
