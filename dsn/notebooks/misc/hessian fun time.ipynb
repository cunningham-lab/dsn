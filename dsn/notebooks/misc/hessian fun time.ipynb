{
 "cells": [
  {
   "cell_type": "code",
   "execution_count": 1,
   "metadata": {},
   "outputs": [],
   "source": [
    "import numpy as np\n",
    "import tensorflow as tf\n",
    "\n",
    "DTYPE = tf.float64\n",
    "D = 3\n",
    "A = tf.get_variable('A', shape = (D,D+1), dtype=DTYPE)"
   ]
  },
  {
   "cell_type": "code",
   "execution_count": 3,
   "metadata": {},
   "outputs": [],
   "source": [
    "x = tf.placeholder(DTYPE, (D+1,))\n",
    "X = tf.expand_dims(x, 1)\n",
    "y = tf.matmul(A, tf.square(X))\n",
    "\n",
    "H = tf.hessians(y, x)"
   ]
  },
  {
   "cell_type": "code",
   "execution_count": 5,
   "metadata": {},
   "outputs": [
    {
     "name": "stdout",
     "output_type": "stream",
     "text": [
      "x (4,) [1. 1. 1. 1.]\n",
      "y (3, 1) [[ 0.22861923]\n",
      " [ 1.13266212]\n",
      " [-1.14254537]]\n",
      "A (3, 4) [[-0.27070308 -0.25762531  0.04333329  0.71361433]\n",
      " [ 0.71283419  0.33557694 -0.38563932  0.46989032]\n",
      " [-0.76098173 -0.6218379   0.17975771  0.06051655]]\n",
      "H 1 (4, 4) [array([[-0.63770125, -0.        , -0.        ,  0.        ],\n",
      "       [-0.        , -1.08777255, -0.        ,  0.        ],\n",
      "       [-0.        , -0.        , -0.32509664,  0.        ],\n",
      "       [-0.        , -0.        , -0.        ,  2.48804238]])]\n"
     ]
    }
   ],
   "source": [
    "_x = np.ones((D+1,))\n",
    "with tf.Session() as sess:\n",
    "    sess.run(tf.global_variables_initializer())\n",
    "    _y, _A, _H = sess.run([y, A, H], {x:_x})\n",
    "    \n",
    "print('x', _x.shape, _x)\n",
    "print('y', _y.shape, _y)\n",
    "print('A', _A.shape, _A)\n",
    "print('H', len(_H), _H[0].shape, _H)"
   ]
  },
  {
   "cell_type": "code",
   "execution_count": 4,
   "metadata": {},
   "outputs": [],
   "source": [
    "d2ydxx = tf.hessians(y, x)"
   ]
  },
  {
   "cell_type": "code",
   "execution_count": 5,
   "metadata": {},
   "outputs": [],
   "source": [
    "with tf.Session() as sess:\n",
    "    sess.run(tf.global_variables_initializer())\n",
    "    _d2ydxx = sess.run(d2ydxx, {x:_x})"
   ]
  },
  {
   "cell_type": "code",
   "execution_count": 6,
   "metadata": {},
   "outputs": [
    {
     "name": "stdout",
     "output_type": "stream",
     "text": [
      "(4, 1, 4, 1)\n"
     ]
    }
   ],
   "source": [
    "print(_d2ydxx[0].shape)"
   ]
  },
  {
   "cell_type": "code",
   "execution_count": 7,
   "metadata": {},
   "outputs": [
    {
     "name": "stdout",
     "output_type": "stream",
     "text": [
      "1\n",
      "[[[[-0.27750847]\n",
      "   [-0.        ]\n",
      "   [-0.        ]\n",
      "   [-0.        ]]]\n",
      "\n",
      "\n",
      " [[[-0.        ]\n",
      "   [-0.52915039]\n",
      "   [-0.        ]\n",
      "   [-0.        ]]]\n",
      "\n",
      "\n",
      " [[[-0.        ]\n",
      "   [-0.        ]\n",
      "   [-0.26848726]\n",
      "   [-0.        ]]]\n",
      "\n",
      "\n",
      " [[[-0.        ]\n",
      "   [-0.        ]\n",
      "   [-0.        ]\n",
      "   [-0.7462577 ]]]]\n"
     ]
    }
   ],
   "source": [
    "print(len(_d2ydxx))\n",
    "print(_d2ydxx[0])"
   ]
  },
  {
   "cell_type": "code",
   "execution_count": null,
   "metadata": {},
   "outputs": [],
   "source": []
  }
 ],
 "metadata": {
  "kernelspec": {
   "display_name": "Python (dsn)",
   "language": "python",
   "name": "dsn"
  },
  "language_info": {
   "codemirror_mode": {
    "name": "ipython",
    "version": 3
   },
   "file_extension": ".py",
   "mimetype": "text/x-python",
   "name": "python",
   "nbconvert_exporter": "python",
   "pygments_lexer": "ipython3",
   "version": "3.6.8"
  }
 },
 "nbformat": 4,
 "nbformat_minor": 2
}
