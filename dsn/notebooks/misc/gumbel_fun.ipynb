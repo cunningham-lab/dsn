{
 "cells": [
  {
   "cell_type": "code",
   "execution_count": 1,
   "metadata": {},
   "outputs": [
    {
     "name": "stdout",
     "output_type": "stream",
     "text": [
      "\n",
      "WARNING: The TensorFlow contrib module will not be included in TensorFlow 2.0.\n",
      "For more information, please see:\n",
      "  * https://github.com/tensorflow/community/blob/master/rfcs/20180907-contrib-sunset.md\n",
      "  * https://github.com/tensorflow/addons\n",
      "If you depend on functionality not listed there, please file an issue.\n",
      "\n"
     ]
    }
   ],
   "source": [
    "%matplotlib inline\n",
    "import numpy as np\n",
    "import matplotlib.pyplot as plt\n",
    "import tensorflow as tf\n",
    "from tf_util.tf_util import gumbel_softmax_log_density\n",
    "from tf_util.tf_util import gumbel_softmax_trick\n",
    "from tf_util.stat_util import sample_gumbel\n",
    "import tensorflow_probability as tfp"
   ]
  },
  {
   "cell_type": "code",
   "execution_count": 48,
   "metadata": {},
   "outputs": [],
   "source": [
    "M = 1000\n",
    "K = 10\n",
    "_G = np.expand_dims(sample_gumbel(M, K), 0)\n",
    "\n",
    "G = tf.placeholder(tf.float64, (1,M,K))\n",
    "alpha = tf.placeholder(tf.float64, (K,))\n",
    "tau = 0.03\n",
    "\n",
    "C = gumbel_softmax_trick(G, alpha, tau)\n",
    "\n",
    "log_p_C = gumbel_softmax_log_density(K, C, alpha, tau)\n"
   ]
  },
  {
   "cell_type": "code",
   "execution_count": 49,
   "metadata": {},
   "outputs": [],
   "source": [
    "sess = tf.Session()"
   ]
  },
  {
   "cell_type": "code",
   "execution_count": 50,
   "metadata": {},
   "outputs": [],
   "source": [
    "_alpha = np.random.uniform(0.0, 1.0, (K,))\n",
    "_alpha = _alpha / np.sum(_alpha)"
   ]
  },
  {
   "cell_type": "code",
   "execution_count": 51,
   "metadata": {},
   "outputs": [],
   "source": [
    "_C, _log_p_C = sess.run([C, log_p_C], {alpha:_alpha, G:_G})"
   ]
  },
  {
   "cell_type": "code",
   "execution_count": 52,
   "metadata": {},
   "outputs": [
    {
     "name": "stdout",
     "output_type": "stream",
     "text": [
      "[0.12315759 0.13596303 0.02017984 0.05539029 0.14419389 0.00983256\n",
      " 0.14307112 0.13462561 0.09660311 0.13698297]\n"
     ]
    },
    {
     "data": {
      "image/png": "[encoded data removed]",
      "text/plain": [
       "<Figure size 432x288 with 1 Axes>"
      ]
     },
     "metadata": {
      "needs_background": "light"
     },
     "output_type": "display_data"
    },
    {
     "name": "stdout",
     "output_type": "stream",
     "text": [
      "mult entropy 2.1391756610777755\n",
      "Gumbel entropy -813.1480918923259\n"
     ]
    }
   ],
   "source": [
    "print(_alpha)\n",
    "plt.figure()\n",
    "plt.hist(np.argmax(_C, 1))\n",
    "plt.show()\n",
    "print('mult entropy', np.sum(-np.log(_alpha)*_alpha))\n",
    "print('Gumbel entropy', np.mean(-_log_p_C))"
   ]
  },
  {
   "cell_type": "code",
   "execution_count": 53,
   "metadata": {},
   "outputs": [],
   "source": [
    "dist = tfp.distributions.RelaxedOneHotCategorical(tau, alpha)"
   ]
  },
  {
   "cell_type": "code",
   "execution_count": 54,
   "metadata": {},
   "outputs": [
    {
     "data": {
      "image/png": "[encoded data removed]",
      "text/plain": [
       "<Figure size 432x288 with 1 Axes>"
      ]
     },
     "metadata": {
      "needs_background": "light"
     },
     "output_type": "display_data"
    },
    {
     "name": "stdout",
     "output_type": "stream",
     "text": [
      "tf entropy -808.8174810259338\n",
      "sean gumbel entropy -813.1480918923259\n"
     ]
    }
   ],
   "source": [
    "_log_p_C_tf = sess.run(dist.log_prob(C), {alpha:_alpha, G:_G})\n",
    "plt.figure()\n",
    "plt.scatter(_log_p_C_tf, _log_p_C)\n",
    "plt.plot([0, 800], [0, 800], 'k--')\n",
    "plt.show()\n",
    "print('tf entropy', np.mean(-_log_p_C_tf))\n",
    "print('sean gumbel entropy', np.mean(-_log_p_C))"
   ]
  },
  {
   "cell_type": "code",
   "execution_count": null,
   "metadata": {},
   "outputs": [],
   "source": []
  }
 ],
 "metadata": {
  "kernelspec": {
   "display_name": "Python (dsn)",
   "language": "python",
   "name": "dsn"
  },
  "language_info": {
   "codemirror_mode": {
    "name": "ipython",
    "version": 3
   },
   "file_extension": ".py",
   "mimetype": "text/x-python",
   "name": "python",
   "nbconvert_exporter": "python",
   "pygments_lexer": "ipython3",
   "version": "3.6.8"
  }
 },
 "nbformat": 4,
 "nbformat_minor": 2
}
