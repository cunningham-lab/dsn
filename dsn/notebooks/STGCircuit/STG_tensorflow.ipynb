{
 "cells": [
  {
   "cell_type": "code",
   "execution_count": 1,
   "metadata": {},
   "outputs": [],
   "source": [
    "%matplotlib inline\n",
    "%load_ext autoreload\n",
    "%autoreload 2\n",
    "\n",
    "import matplotlib.pyplot as plt\n",
    "import numpy as np\n",
    "import tensorflow as tf"
   ]
  },
  {
   "cell_type": "code",
   "execution_count": 2,
   "metadata": {},
   "outputs": [],
   "source": [
    "D = 8\n",
    "dtype = tf.float64\n",
    "x = tf.placeholder(dtype, (D,))\n",
    "_x = np.random.normal(0.0, 1.0, (D,))\n",
    "\n",
    "a = tf.get_variable('a', dtype=dtype, initializer=tf.constant(2.0, dtype=dtype))\n",
    "\n",
    "freqs = np.arange(0.0, 1.0, 0.125)\n",
    "freqs_tf = tf.constant(freqs)\n",
    "\n",
    "ax = x + a*np.exp(np.arange(1.0, 0.0, -0.125))\n",
    "alpha = 100\n",
    "ax_100 = tf.pow(ax, alpha)\n",
    "id_vec = ax_100 / tf.reduce_sum(ax_100)\n",
    "\n",
    "z = tf.tensordot(id_vec, freqs, [[0],[0]])\n"
   ]
  },
  {
   "cell_type": "code",
   "execution_count": 3,
   "metadata": {},
   "outputs": [
    {
     "name": "stdout",
     "output_type": "stream",
     "text": [
      "[<tf.Tensor 'gradients/mul_grad/Reshape:0' shape=() dtype=float64>]\n"
     ]
    }
   ],
   "source": [
    "grad = tf.gradients(z, a)\n",
    "print(grad)"
   ]
  },
  {
   "cell_type": "code",
   "execution_count": 4,
   "metadata": {},
   "outputs": [
    {
     "name": "stdout",
     "output_type": "stream",
     "text": [
      "-0.0644863078856554\n"
     ]
    }
   ],
   "source": [
    "with tf.Session() as sess:\n",
    "    grads = []\n",
    "    sess.run(tf.global_variables_initializer())\n",
    "    for i in range(1000):\n",
    "        _z, _grad = sess.run([z, grad], {x:np.random.normal(0.0, 1.0, (D,))})\n",
    "        grads.append(_grad)\n",
    "print(np.mean(np.array(grads)))"
   ]
  },
  {
   "cell_type": "code",
   "execution_count": 5,
   "metadata": {},
   "outputs": [
    {
     "data": {
      "text/plain": [
       "array([ 0.84597472, -1.27162447, -0.97104302, -0.7800151 , -0.4723918 ,\n",
       "       -1.35143699,  0.54122223,  0.87361846])"
      ]
     },
     "execution_count": 5,
     "metadata": {},
     "output_type": "execute_result"
    }
   ],
   "source": [
    "_x"
   ]
  },
  {
   "cell_type": "code",
   "execution_count": 6,
   "metadata": {},
   "outputs": [
    {
     "name": "stdout",
     "output_type": "stream",
     "text": [
      "[1.    0.875 0.75  0.625 0.5   0.375 0.25  0.125]\n"
     ]
    }
   ],
   "source": [
    "freqs = np.arange(1.0, 0.0, -0.125)\n",
    "print(freqs)"
   ]
  },
  {
   "cell_type": "code",
   "execution_count": null,
   "metadata": {},
   "outputs": [],
   "source": []
  }
 ],
 "metadata": {
  "kernelspec": {
   "display_name": "Python (dsn)",
   "language": "python",
   "name": "dsn"
  },
  "language_info": {
   "codemirror_mode": {
    "name": "ipython",
    "version": 3
   },
   "file_extension": ".py",
   "mimetype": "text/x-python",
   "name": "python",
   "nbconvert_exporter": "python",
   "pygments_lexer": "ipython3",
   "version": "3.6.8"
  }
 },
 "nbformat": 4,
 "nbformat_minor": 2
}
