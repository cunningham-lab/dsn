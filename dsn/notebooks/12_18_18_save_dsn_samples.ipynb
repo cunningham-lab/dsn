{
 "cells": [
  {
   "cell_type": "code",
   "execution_count": 4,
   "metadata": {},
   "outputs": [
    {
     "name": "stdout",
     "output_type": "stream",
     "text": [
      "The autoreload extension is already loaded. To reload it, use:\n",
      "  %reload_ext autoreload\n"
     ]
    },
    {
     "name": "stderr",
     "output_type": "stream",
     "text": [
      "/Users/sbittner/anaconda/envs/dsn/lib/python3.6/site-packages/scipy/io/matlab/miobase.py:414: FutureWarning: Using a non-tuple sequence for multidimensional indexing is deprecated; use `arr[tuple(seq)]` instead of `arr[seq]`. In the future this will be interpreted as an array index, `arr[np.array(seq)]`, which will result either in an error or a different result.\n",
      "  arr[empties] = ' '\n"
     ]
    }
   ],
   "source": [
    "%matplotlib inline\n",
    "%load_ext autoreload\n",
    "%autoreload 2\n",
    "\n",
    "import matplotlib.pyplot as plt\n",
    "import numpy as np\n",
    "import tensorflow as tf\n",
    "from dsn.util.systems import system_from_str\n",
    "from dsn.train_dsn import train_dsn\n",
    "from dsn.util.plot_util import plot_opt, plot_phis, plot_T_phis, assess_constraints\n",
    "import scipy.stats\n",
    "import seaborn as sns\n",
    "import pandas as pd\n",
    "import scipy\n",
    "\n",
    "# filename info\n",
    "basedir = '/Users/sbittner/Documents/dsn/dsn/results/';\n",
    "\n",
    "system_str = 'V1_circuit';\n",
    "system_dir = 'V1_circuit'\n",
    "\n",
    "# system parameters\n",
    "behavior_str = 'ss_all';\n",
    "param_str = 'h';\n",
    "T = 20;\n",
    "dt = 0.25;\n",
    "init_conds = np.expand_dims(np.array([1.0, 1.1, 1.2, 1.3]), 1);\n",
    "\n",
    "system_class = system_from_str(system_str);\n",
    "system = system_class(behavior_str, param_str, T, dt, init_conds);\n",
    "\n",
    "# optimization hyperparameters\n",
    "nlayers = 10;\n",
    "sigma_init = 1.0;\n",
    "c_init = -4;\n",
    "\n",
    "num_rs = 1\n",
    "start_rs = 4;\n",
    "\n",
    "fnames = [];\n",
    "legendstrs = [];\n",
    "for rs in range(start_rs, start_rs+num_rs):\n",
    "    savedir = basedir + system_dir + '/' \\\n",
    "          'V1_circuit_D=8_flow=M_%dP_sigma=%.2f_lr_order=-3_c=%d_rs=%d/' % \\\n",
    "          (nlayers, sigma_init, c_init, rs);\n",
    "    fname = savedir + 'results.npz';\n",
    "    fnames.append(fname);\n",
    "    legendstr = 'rs=%d' % rs;\n",
    "    legendstrs.append(legendstr);\n",
    "    \n",
    "    npzfile = np.load(fnames[0]);\n",
    "    mu = npzfile['mu'];\n",
    "    check_rate = npzfile['check_rate'];\n",
    "    last_ind = npzfile['it']//check_rate;\n",
    "    nits = npzfile['costs'].shape[0];\n",
    "    k_max = npzfile['T_phis'].shape[0]-1;\n",
    "    iterations = np.arange(0, check_rate*nits, check_rate);\n",
    "    \n",
    "    all_phis = npzfile['phis'];\n",
    "    all_T_phis = npzfile['T_phis'];\n",
    "    \n",
    "alpha = 0.05;\n",
    "p_values, AL_final_its = assess_constraints(fnames, alpha, k_max, mu, system.num_suff_stats);\n",
    "\n",
    "phis = all_phis[AL_final_its[0]]\n",
    "T_phis = all_T_phis[AL_final_its[0]]\n",
    "\n",
    "phi_labels = [r'$h_{E,1}$', r'$h_{P,1}$', r'$h_{S,1}$', r'$h_{V,1}$', \\\n",
    "              r'$h_{E,2}$', r'$h_{P,2}$', r'$h_{S,2}$', r'$h_{V,2}$']\n",
    "T_phi_labels = [r'$d_{E,ss}$', r'$d_{P,ss}$', r'$d_{S,ss}$', r'$d_{V,ss}$', \\\n",
    "                r'$d_{E,ss}^2$', r'$d_{P,ss}^2$', r'$d_{S,ss}^2$', r'$d_{V,ss}^2$']\n",
    "\n",
    "savedict = {'phis':phis, \\\n",
    "            'T_phis':T_phis, \\\n",
    "            'phi_labels':phi_labels, \\\n",
    "            'T_phi_labels':T_phi_labels};\n",
    "scipy.io.savemat('V1_dsn_EPS_inc_V_same.mat', savedict)"
   ]
  },
  {
   "cell_type": "code",
   "execution_count": null,
   "metadata": {},
   "outputs": [],
   "source": []
  }
 ],
 "metadata": {
  "kernelspec": {
   "display_name": "Python [conda env:dsn]",
   "language": "python",
   "name": "conda-env-dsn-py"
  },
  "language_info": {
   "codemirror_mode": {
    "name": "ipython",
    "version": 3
   },
   "file_extension": ".py",
   "mimetype": "text/x-python",
   "name": "python",
   "nbconvert_exporter": "python",
   "pygments_lexer": "ipython3",
   "version": "3.6.7"
  }
 },
 "nbformat": 4,
 "nbformat_minor": 2
}
