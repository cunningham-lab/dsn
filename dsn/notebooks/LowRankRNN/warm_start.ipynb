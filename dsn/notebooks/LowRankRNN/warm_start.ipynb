{
 "cells": [
  {
   "cell_type": "code",
   "execution_count": 7,
   "metadata": {},
   "outputs": [],
   "source": [
    "%matplotlib inline\n",
    "%load_ext autoreload\n",
    "%autoreload 2\n",
    "\n",
    "import scipy\n",
    "import matplotlib.pyplot as plt\n",
    "import numpy as np\n",
    "import time\n",
    "import tensorflow as tf\n",
    "import dsn.lib.LowRank.Fig1_Spontaneous.fct_mf as mf\n",
    "from dsn.util.systems import LowRankRNN\n",
    "from dsn.util.tf_DMFT_solvers import rank2_CDD_static_solve_np\n",
    "from dsn.util.system import get_warm_start_dir"
   ]
  },
  {
   "cell_type": "code",
   "execution_count": 33,
   "metadata": {},
   "outputs": [],
   "source": [
    "def warm_start(system):\n",
    "    assert(system.name == 'LowRankRNN')\n",
    "    ws_filename = get_warm_start_dir(system)\n",
    "    warm_start_solve_its = 10\n",
    "    rank = system.model_opts['rank']\n",
    "    behavior_type = system.behavior['type']\n",
    "    min_bound = np.min(system.a)\n",
    "    max_bound = np.max(system.b)\n",
    "    step = system.warm_start_grid_step\n",
    "    grid_vals = np.arange(min_bound, max_bound+step, step)\n",
    "    m = grid_vals.shape[0]**system.D\n",
    "    if (rank == 2 and behavior_type == \"CDD\"):\n",
    "        print('Rank2 CDD static warm start, %d total queries' % m)\n",
    "        grid_vals_list = []\n",
    "        for param in system.all_params:\n",
    "            if (param in system.free_params):\n",
    "                vals = grid_vals.copy()\n",
    "            else:\n",
    "                vals = np.array([system.fixed_params[param]])\n",
    "            grid_vals_list.append(vals)\n",
    "    grid = np.array(np.meshgrid(*grid_vals_list))\n",
    "    grid = np.reshape(grid, (len(system.all_params), m))\n",
    "    \n",
    "    cA = np.zeros((m,))\n",
    "    cB = np.zeros((m,))\n",
    "    \n",
    "    kappa1_init = -5.0*np.ones((m,))\n",
    "    kappa2_init = -5.0*np.ones((m,))\n",
    "    delta0_init = 5.0*np.ones((m,))\n",
    "    kappa1, kappa2, delta_0, z = rank2_CDD_static_solve_np(kappa1_init, \n",
    "                                                           kappa2_init,\n",
    "                                                           delta0_init,\n",
    "                                                           cA,\n",
    "                                                           cB,\n",
    "                                                           grid[0],\n",
    "                                                           grid[1],\n",
    "                                                           grid[2],\n",
    "                                                           grid[3],\n",
    "                                                           grid[4],\n",
    "                                                           grid[5],\n",
    "                                                           grid[6],\n",
    "                                                           warm_start_solve_its,\n",
    "                                                           system.solve_eps,\n",
    "                                                           db=False)\n",
    "    \n",
    "    solution_grid = np.stack((kappa1, kappa2, delta_0), axis=1)\n",
    "                                                           \n",
    "    np.savez(ws_filename, param_grid=grid, solution_grid=solution_grid)\n",
    "    return kappa1"
   ]
  },
  {
   "cell_type": "code",
   "execution_count": 34,
   "metadata": {},
   "outputs": [],
   "source": [
    "# create an instance of the V1_circuit system class\n",
    "fixed_params = {'g':0.8, 'gammaLO':-0.14, 'gammaHI':0.08}\n",
    "\n",
    "behavior_type = \"CDD\"\n",
    "means = np.array([0.3])\n",
    "variances = np.array([0.0001])\n",
    "behavior = {\"type\": behavior_type, \"means\": means, \"variances\": variances}\n",
    "\n",
    "# set model options\n",
    "model_opts = {\"rank\": 2, \"input_type\": \"input\"}\n",
    "\n",
    "solve_its = 500\n",
    "solve_eps = 0.2\n",
    "system = LowRankRNN(\n",
    "    fixed_params, behavior, model_opts=model_opts, solve_its=solve_its, solve_eps=solve_eps\n",
    ")\n"
   ]
  },
  {
   "cell_type": "code",
   "execution_count": 37,
   "metadata": {},
   "outputs": [
    {
     "name": "stdout",
     "output_type": "stream",
     "text": [
      "Rank2 CDD static warm start, 81 total queries\n",
      "[-1.20038031 -0.72459362 -0.34695227 -0.75773954 -0.75773954 -0.75773954\n",
      " -0.34695227 -0.72459362 -1.20038031 -0.97059225 -0.53687091 -0.2337172\n",
      " -0.53687091 -0.53687091 -0.53687091 -0.2337172  -0.53687091 -0.97059225\n",
      " -0.7555112  -0.38304103 -0.15665055 -0.36508035 -0.36508035 -0.36508035\n",
      " -0.15665055 -0.38304103 -0.7555112  -1.04141191 -0.51728886 -0.18415687\n",
      " -0.51229822 -0.51229822 -0.51229822 -0.18415687 -0.51728886 -1.04141191\n",
      " -1.05804576 -0.53687091 -0.20639246 -0.53687091 -0.53687091 -0.53687091\n",
      " -0.20639246 -0.53687091 -1.05804576 -1.07465208 -0.5564253  -0.22860277\n",
      " -0.56140679 -0.56140679 -0.56140679 -0.22860277 -0.5564253  -1.07465208\n",
      " -0.72569087 -0.35049938 -0.12070013 -0.32764435 -0.32764435 -0.32764435\n",
      " -0.12070013 -0.35049938 -0.72569087 -0.96829095 -0.53687091 -0.23468875\n",
      " -0.53687091 -0.53687091 -0.53687091 -0.23468875 -0.53687091 -0.96829095\n",
      " -1.22342323 -0.75640527 -0.38638002 -0.79539232 -0.79539232 -0.79539232\n",
      " -0.38638002 -0.75640527 -1.22342323]\n"
     ]
    }
   ],
   "source": [
    "x = warm_start(system)\n",
    "print(x)"
   ]
  },
  {
   "cell_type": "code",
   "execution_count": null,
   "metadata": {},
   "outputs": [],
   "source": []
  }
 ],
 "metadata": {
  "kernelspec": {
   "display_name": "Python (dsn)",
   "language": "python",
   "name": "dsn"
  },
  "language_info": {
   "codemirror_mode": {
    "name": "ipython",
    "version": 3
   },
   "file_extension": ".py",
   "mimetype": "text/x-python",
   "name": "python",
   "nbconvert_exporter": "python",
   "pygments_lexer": "ipython3",
   "version": "3.6.8"
  }
 },
 "nbformat": 4,
 "nbformat_minor": 2
}
