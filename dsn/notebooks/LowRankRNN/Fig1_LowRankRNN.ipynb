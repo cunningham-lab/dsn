{
 "cells": [
  {
   "cell_type": "code",
   "execution_count": 1,
   "metadata": {},
   "outputs": [],
   "source": [
    "%matplotlib inline\n",
    "%load_ext autoreload\n",
    "%autoreload 2\n",
    "\n",
    "import scipy\n",
    "import matplotlib.pyplot as plt\n",
    "import numpy as np\n",
    "import tensorflow as tf\n",
    "import dsn.lib.LowRank.Fig1_Spontaneous.fct_mf as mf\n",
    "\n",
    "from dsn.util.tf_DMFT_solvers import rank2_CDD_static_solve\n",
    "\n",
    "DTYPE = tf.float64\n",
    "\n",
    "n = 1\n",
    "cA = 0.0\n",
    "\n",
    "_delta_0_init = 10.0*np.ones((n,))\n",
    "\n",
    "_g = 0.8*np.ones((n,))\n",
    "_rhom = 1.6*np.ones((n,)) \n",
    "_rhon = 3.0*np.ones((n,))\n",
    "_betam = 0.6*np.ones((n,))\n",
    "_betan = 1.0*np.ones((n,))\n",
    "\n",
    "kappa1_init = tf.placeholder(dtype=DTYPE, shape=(n,))\n",
    "kappa2_init = tf.placeholder(dtype=DTYPE, shape=(n,))\n",
    "delta_0_init = tf.placeholder(dtype=DTYPE, shape=(n,))\n",
    "delta_inf_init = tf.placeholder(dtype=DTYPE, shape=(n,))\n",
    "\n",
    "g = tf.placeholder(dtype=DTYPE, shape=(n,))\n",
    "rhom = tf.placeholder(dtype=DTYPE, shape=(n,))\n",
    "rhon = tf.placeholder(dtype=DTYPE, shape=(n,))\n",
    "betam = tf.placeholder(dtype=DTYPE, shape=(n,))\n",
    "betan = tf.placeholder(dtype=DTYPE, shape=(n,))\n",
    "\n",
    "its = 500\n",
    "eps  = 0.2\n",
    "\n",
    "gqp = 50\n"
   ]
  },
  {
   "cell_type": "code",
   "execution_count": 2,
   "metadata": {},
   "outputs": [
    {
     "name": "stdout",
     "output_type": "stream",
     "text": [
      "(1, 3, 501)\n"
     ]
    }
   ],
   "source": [
    "cB = 0.0\n",
    "kappa_sign = -1.0\n",
    "\n",
    "gammaA = 0.08*np.ones((n,))\n",
    "gammaB = -0.14*np.ones((n,))\n",
    "\n",
    "\n",
    "_kappa1_init = kappa_sign*2.2*np.ones((n,))\n",
    "_kappa2_init = kappa_sign*2.0*np.ones((n,))\n",
    "\n",
    "kappa1, kappa2, delta_0, z, xs = rank2_CDD_static_solve(kappa1_init, kappa2_init, delta_0_init, \\\n",
    "                                                 cA, cB, \\\n",
    "                                                 g, rhom, rhon, betam, betan, \\\n",
    "                                                 gammaA, gammaB, \\\n",
    "                                                 its, eps, gauss_quad_pts=gqp, db=True)\n",
    "\n",
    "feed_dict = {kappa1_init:_kappa1_init, kappa2_init:_kappa2_init, delta_0_init:_delta_0_init, \\\n",
    "             g:_g, rhom:_rhom, rhon:_rhon, betam:_betam, betan:_betan}\n",
    "\n",
    "with tf.Session() as sess:\n",
    "    _kappa1, _kappa2, _delta_0, _z, _xs = sess.run([kappa1, kappa2, delta_0, z, xs], feed_dict)\n",
    "\n",
    "print(_xs.shape)\n"
   ]
  },
  {
   "cell_type": "code",
   "execution_count": 4,
   "metadata": {},
   "outputs": [
    {
     "name": "stdout",
     "output_type": "stream",
     "text": [
      "[0.2732919]\n"
     ]
    },
    {
     "data": {
      "image/png": "[encoded data removed]",
      "text/plain": [
       "<Figure size 432x288 with 1 Axes>"
      ]
     },
     "metadata": {
      "needs_background": "light"
     },
     "output_type": "display_data"
    }
   ],
   "source": [
    "plt.plot(_xs[0,0,:], _xs[0,1,:])\n",
    "print(_z)"
   ]
  },
  {
   "cell_type": "code",
   "execution_count": null,
   "metadata": {},
   "outputs": [],
   "source": []
  }
 ],
 "metadata": {
  "kernelspec": {
   "display_name": "Python (dsn)",
   "language": "python",
   "name": "dsn"
  },
  "language_info": {
   "codemirror_mode": {
    "name": "ipython",
    "version": 3
   },
   "file_extension": ".py",
   "mimetype": "text/x-python",
   "name": "python",
   "nbconvert_exporter": "python",
   "pygments_lexer": "ipython3",
   "version": "3.6.8"
  }
 },
 "nbformat": 4,
 "nbformat_minor": 2
}
